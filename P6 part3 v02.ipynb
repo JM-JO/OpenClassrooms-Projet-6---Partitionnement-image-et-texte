{
 "cells": [
  {
   "cell_type": "markdown",
   "metadata": {
    "ExecuteTime": {
     "end_time": "2021-09-17T13:47:21.701250Z",
     "start_time": "2021-09-17T13:47:21.685650Z"
    }
   },
   "source": [
    "# Mise en place du notebook"
   ]
  },
  {
   "cell_type": "markdown",
   "metadata": {},
   "source": [
    "## Versionning"
   ]
  },
  {
   "cell_type": "markdown",
   "metadata": {
    "ExecuteTime": {
     "end_time": "2021-09-23T09:54:54.157640Z",
     "start_time": "2021-09-23T09:54:54.149640Z"
    }
   },
   "source": [
    "P6 v7 : avant split entre \"P6 part1 v01\" (contient la récupération des données et le SIFT) et \"P6 part2 v01\" (contient VGG-16).  \n",
    "P6 part2 : début VGG-16.\n",
    "P6 part2 v03 : version ayant servi à la création de part 3.  \n",
    "P6 part3 v01 : tf-idf sur les data.  \n",
    "P6 part3 v02 : cleaning des data.    "
   ]
  },
  {
   "cell_type": "markdown",
   "metadata": {},
   "source": [
    "## Import des modules"
   ]
  },
  {
   "cell_type": "code",
   "execution_count": 181,
   "metadata": {
    "ExecuteTime": {
     "end_time": "2021-09-29T09:44:34.623639Z",
     "start_time": "2021-09-29T09:44:34.608039Z"
    }
   },
   "outputs": [],
   "source": [
    "# imports pour le développement\n",
    "from pympler import asizeof\n",
    "import mesfonctions\n",
    "from importlib import reload\n",
    "mesfonctions = reload(mesfonctions)\n",
    "\n",
    "# imports pour la production\n",
    "import numpy as np\n",
    "import pandas as pd\n",
    "import matplotlib.pyplot as plt\n",
    "from sklearn.cluster import KMeans, MiniBatchKMeans\n",
    "from sklearn.metrics import adjusted_rand_score\n",
    "import pickle\n",
    "from termcolor import colored, cprint\n",
    "\n",
    "\n",
    "# Pour NLP\n",
    "from sklearn.feature_extraction.text import TfidfVectorizer, CountVectorizer, TfidfTransformer\n"
   ]
  },
  {
   "cell_type": "markdown",
   "metadata": {},
   "source": [
    "## Fonctions courantes"
   ]
  },
  {
   "cell_type": "code",
   "execution_count": 3,
   "metadata": {
    "ExecuteTime": {
     "end_time": "2021-09-28T16:05:09.921041Z",
     "start_time": "2021-09-28T16:05:09.905441Z"
    }
   },
   "outputs": [],
   "source": [
    "def nom_fichier_photo(index, df=None):\n",
    "    \"\"\"Retourne le chemin + nom du fichier jpg d'une ligne de dataframe.\n",
    "    Args : \n",
    "    - index : index de la ligne de df.\n",
    "    Returns :\n",
    "    - string.\n",
    "    \"\"\"\n",
    "    if df is None:\n",
    "        df = df_source\n",
    "    return PATH + df['image'][index]"
   ]
  },
  {
   "cell_type": "markdown",
   "metadata": {},
   "source": [
    "## Constantes"
   ]
  },
  {
   "cell_type": "code",
   "execution_count": 4,
   "metadata": {
    "ExecuteTime": {
     "end_time": "2021-09-28T16:05:09.936641Z",
     "start_time": "2021-09-28T16:05:09.921041Z"
    }
   },
   "outputs": [],
   "source": [
    "PATH = \"Images_Flipkart/\""
   ]
  },
  {
   "cell_type": "markdown",
   "metadata": {},
   "source": [
    "## Gestion des paramètres d'affichage de Jupyter"
   ]
  },
  {
   "cell_type": "code",
   "execution_count": 5,
   "metadata": {
    "ExecuteTime": {
     "end_time": "2021-09-28T16:05:09.945642Z",
     "start_time": "2021-09-28T16:05:09.937641Z"
    }
   },
   "outputs": [
    {
     "data": {
      "text/html": [
       "<style>.container { width:95% }</style>"
      ],
      "text/plain": [
       "<IPython.core.display.HTML object>"
      ]
     },
     "execution_count": 5,
     "metadata": {},
     "output_type": "execute_result"
    }
   ],
   "source": [
    "from IPython.core.display import HTML\n",
    "plt.style.use('seaborn')\n",
    "\n",
    "# pour gérer l'affichage des dataframes pandas\n",
    "pd.options.display.max_rows = 100\n",
    "pd.options.display.max_columns = 200\n",
    "pd.set_option(\"colheader_justify\", \"left\")\n",
    "\n",
    "# pour gérer l'affichage des arrays numpy\n",
    "# 230 sur config bureau, 165 sur config portable\n",
    "np.set_printoptions(linewidth=165)\n",
    "\n",
    "# pour afficher les gros fichiers sur toute la largeur de l'écran\n",
    "HTML(\"<style>.container { width:95% }</style>\")"
   ]
  },
  {
   "cell_type": "markdown",
   "metadata": {},
   "source": [
    "# Chargement du dataframe"
   ]
  },
  {
   "cell_type": "code",
   "execution_count": 6,
   "metadata": {
    "ExecuteTime": {
     "end_time": "2021-09-28T16:05:09.954642Z",
     "start_time": "2021-09-28T16:05:09.947642Z"
    }
   },
   "outputs": [],
   "source": [
    "df_source = pickle.load(open('df_source.pkl', 'rb'))"
   ]
  },
  {
   "cell_type": "code",
   "execution_count": 7,
   "metadata": {
    "ExecuteTime": {
     "end_time": "2021-09-28T16:05:09.981644Z",
     "start_time": "2021-09-28T16:05:09.955642Z"
    }
   },
   "outputs": [
    {
     "data": {
      "text/html": [
       "<div>\n",
       "<style scoped>\n",
       "    .dataframe tbody tr th:only-of-type {\n",
       "        vertical-align: middle;\n",
       "    }\n",
       "\n",
       "    .dataframe tbody tr th {\n",
       "        vertical-align: top;\n",
       "    }\n",
       "\n",
       "    .dataframe thead th {\n",
       "        text-align: right;\n",
       "    }\n",
       "</style>\n",
       "<table border=\"1\" class=\"dataframe\">\n",
       "  <thead>\n",
       "    <tr style=\"text-align: left;\">\n",
       "      <th></th>\n",
       "      <th>uniq_id</th>\n",
       "      <th>crawl_timestamp</th>\n",
       "      <th>product_url</th>\n",
       "      <th>product_name</th>\n",
       "      <th>product_category_tree</th>\n",
       "      <th>pid</th>\n",
       "      <th>retail_price</th>\n",
       "      <th>discounted_price</th>\n",
       "      <th>image</th>\n",
       "      <th>is_FK_Advantage_product</th>\n",
       "      <th>description</th>\n",
       "      <th>product_rating</th>\n",
       "      <th>overall_rating</th>\n",
       "      <th>brand</th>\n",
       "      <th>product_specifications</th>\n",
       "      <th>label</th>\n",
       "    </tr>\n",
       "  </thead>\n",
       "  <tbody>\n",
       "    <tr>\n",
       "      <th>0</th>\n",
       "      <td>55b85ea15a1536d46b7190ad6fff8ce7</td>\n",
       "      <td>2016-04-30 03:22:56 +0000</td>\n",
       "      <td>http://www.flipkart.com/elegance-polyester-mul...</td>\n",
       "      <td>Elegance Polyester Multicolor Abstract Eyelet ...</td>\n",
       "      <td>[\"Home Furnishing &gt;&gt; Curtains &amp; Accessories &gt;&gt;...</td>\n",
       "      <td>CRNEG7BKMFFYHQ8Z</td>\n",
       "      <td>1899.0</td>\n",
       "      <td>899.0</td>\n",
       "      <td>55b85ea15a1536d46b7190ad6fff8ce7.jpg</td>\n",
       "      <td>False</td>\n",
       "      <td>Key Features of Elegance Polyester Multicolor ...</td>\n",
       "      <td>No rating available</td>\n",
       "      <td>No rating available</td>\n",
       "      <td>Elegance</td>\n",
       "      <td>{\"product_specification\"=&gt;[{\"key\"=&gt;\"Brand\", \"v...</td>\n",
       "      <td>Home Furnishing</td>\n",
       "    </tr>\n",
       "    <tr>\n",
       "      <th>1</th>\n",
       "      <td>7b72c92c2f6c40268628ec5f14c6d590</td>\n",
       "      <td>2016-04-30 03:22:56 +0000</td>\n",
       "      <td>http://www.flipkart.com/sathiyas-cotton-bath-t...</td>\n",
       "      <td>Sathiyas Cotton Bath Towel</td>\n",
       "      <td>[\"Baby Care &gt;&gt; Baby Bath &amp; Skin &gt;&gt; Baby Bath T...</td>\n",
       "      <td>BTWEGFZHGBXPHZUH</td>\n",
       "      <td>600.0</td>\n",
       "      <td>449.0</td>\n",
       "      <td>7b72c92c2f6c40268628ec5f14c6d590.jpg</td>\n",
       "      <td>False</td>\n",
       "      <td>Specifications of Sathiyas Cotton Bath Towel (...</td>\n",
       "      <td>No rating available</td>\n",
       "      <td>No rating available</td>\n",
       "      <td>Sathiyas</td>\n",
       "      <td>{\"product_specification\"=&gt;[{\"key\"=&gt;\"Machine Wa...</td>\n",
       "      <td>Baby Care</td>\n",
       "    </tr>\n",
       "    <tr>\n",
       "      <th>2</th>\n",
       "      <td>64d5d4a258243731dc7bbb1eef49ad74</td>\n",
       "      <td>2016-04-30 03:22:56 +0000</td>\n",
       "      <td>http://www.flipkart.com/eurospa-cotton-terry-f...</td>\n",
       "      <td>Eurospa Cotton Terry Face Towel Set</td>\n",
       "      <td>[\"Baby Care &gt;&gt; Baby Bath &amp; Skin &gt;&gt; Baby Bath T...</td>\n",
       "      <td>BTWEG6SHXTDB2A2Y</td>\n",
       "      <td>NaN</td>\n",
       "      <td>NaN</td>\n",
       "      <td>64d5d4a258243731dc7bbb1eef49ad74.jpg</td>\n",
       "      <td>False</td>\n",
       "      <td>Key Features of Eurospa Cotton Terry Face Towe...</td>\n",
       "      <td>No rating available</td>\n",
       "      <td>No rating available</td>\n",
       "      <td>Eurospa</td>\n",
       "      <td>{\"product_specification\"=&gt;[{\"key\"=&gt;\"Material\",...</td>\n",
       "      <td>Baby Care</td>\n",
       "    </tr>\n",
       "    <tr>\n",
       "      <th>3</th>\n",
       "      <td>d4684dcdc759dd9cdf41504698d737d8</td>\n",
       "      <td>2016-06-20 08:49:52 +0000</td>\n",
       "      <td>http://www.flipkart.com/santosh-royal-fashion-...</td>\n",
       "      <td>SANTOSH ROYAL FASHION Cotton Printed King size...</td>\n",
       "      <td>[\"Home Furnishing &gt;&gt; Bed Linen &gt;&gt; Bedsheets &gt;&gt;...</td>\n",
       "      <td>BDSEJT9UQWHDUBH4</td>\n",
       "      <td>2699.0</td>\n",
       "      <td>1299.0</td>\n",
       "      <td>d4684dcdc759dd9cdf41504698d737d8.jpg</td>\n",
       "      <td>False</td>\n",
       "      <td>Key Features of SANTOSH ROYAL FASHION Cotton P...</td>\n",
       "      <td>No rating available</td>\n",
       "      <td>No rating available</td>\n",
       "      <td>SANTOSH ROYAL FASHION</td>\n",
       "      <td>{\"product_specification\"=&gt;[{\"key\"=&gt;\"Brand\", \"v...</td>\n",
       "      <td>Home Furnishing</td>\n",
       "    </tr>\n",
       "    <tr>\n",
       "      <th>4</th>\n",
       "      <td>6325b6870c54cd47be6ebfbffa620ec7</td>\n",
       "      <td>2016-06-20 08:49:52 +0000</td>\n",
       "      <td>http://www.flipkart.com/jaipur-print-cotton-fl...</td>\n",
       "      <td>Jaipur Print Cotton Floral King sized Double B...</td>\n",
       "      <td>[\"Home Furnishing &gt;&gt; Bed Linen &gt;&gt; Bedsheets &gt;&gt;...</td>\n",
       "      <td>BDSEJTHNGWVGWWQU</td>\n",
       "      <td>2599.0</td>\n",
       "      <td>698.0</td>\n",
       "      <td>6325b6870c54cd47be6ebfbffa620ec7.jpg</td>\n",
       "      <td>False</td>\n",
       "      <td>Key Features of Jaipur Print Cotton Floral Kin...</td>\n",
       "      <td>No rating available</td>\n",
       "      <td>No rating available</td>\n",
       "      <td>Jaipur Print</td>\n",
       "      <td>{\"product_specification\"=&gt;[{\"key\"=&gt;\"Machine Wa...</td>\n",
       "      <td>Home Furnishing</td>\n",
       "    </tr>\n",
       "    <tr>\n",
       "      <th>...</th>\n",
       "      <td>...</td>\n",
       "      <td>...</td>\n",
       "      <td>...</td>\n",
       "      <td>...</td>\n",
       "      <td>...</td>\n",
       "      <td>...</td>\n",
       "      <td>...</td>\n",
       "      <td>...</td>\n",
       "      <td>...</td>\n",
       "      <td>...</td>\n",
       "      <td>...</td>\n",
       "      <td>...</td>\n",
       "      <td>...</td>\n",
       "      <td>...</td>\n",
       "      <td>...</td>\n",
       "      <td>...</td>\n",
       "    </tr>\n",
       "    <tr>\n",
       "      <th>1045</th>\n",
       "      <td>958f54f4c46b53c8a0a9b8167d9140bc</td>\n",
       "      <td>2015-12-01 10:15:43 +0000</td>\n",
       "      <td>http://www.flipkart.com/oren-empower-extra-lar...</td>\n",
       "      <td>Oren Empower Extra Large Self Adhesive Sticker</td>\n",
       "      <td>[\"Baby Care &gt;&gt; Baby &amp; Kids Gifts &gt;&gt; Stickers &gt;...</td>\n",
       "      <td>STIE88ZGTX65GH4V</td>\n",
       "      <td>1399.0</td>\n",
       "      <td>999.0</td>\n",
       "      <td>958f54f4c46b53c8a0a9b8167d9140bc.jpg</td>\n",
       "      <td>False</td>\n",
       "      <td>Oren Empower Extra Large Self Adhesive Sticker...</td>\n",
       "      <td>No rating available</td>\n",
       "      <td>No rating available</td>\n",
       "      <td>Oren Empower</td>\n",
       "      <td>{\"product_specification\"=&gt;[{\"key\"=&gt;\"Number of ...</td>\n",
       "      <td>Baby Care</td>\n",
       "    </tr>\n",
       "    <tr>\n",
       "      <th>1046</th>\n",
       "      <td>fd6cbcc22efb6b761bd564c28928483c</td>\n",
       "      <td>2015-12-01 10:15:43 +0000</td>\n",
       "      <td>http://www.flipkart.com/wallmantra-large-vinyl...</td>\n",
       "      <td>Wallmantra Large Vinyl Sticker Sticker</td>\n",
       "      <td>[\"Baby Care &gt;&gt; Baby &amp; Kids Gifts &gt;&gt; Stickers &gt;...</td>\n",
       "      <td>STIEC889ZD5GDCVQ</td>\n",
       "      <td>4930.0</td>\n",
       "      <td>1896.0</td>\n",
       "      <td>fd6cbcc22efb6b761bd564c28928483c.jpg</td>\n",
       "      <td>False</td>\n",
       "      <td>Wallmantra Large Vinyl Sticker Sticker (Pack o...</td>\n",
       "      <td>No rating available</td>\n",
       "      <td>No rating available</td>\n",
       "      <td>Wallmantra</td>\n",
       "      <td>{\"product_specification\"=&gt;[{\"key\"=&gt;\"Number of ...</td>\n",
       "      <td>Baby Care</td>\n",
       "    </tr>\n",
       "    <tr>\n",
       "      <th>1047</th>\n",
       "      <td>5912e037d12774bb73a2048f35a00009</td>\n",
       "      <td>2015-12-01 10:15:43 +0000</td>\n",
       "      <td>http://www.flipkart.com/uberlyfe-extra-large-p...</td>\n",
       "      <td>Uberlyfe Extra Large Pigmented Polyvinyl Films...</td>\n",
       "      <td>[\"Baby Care &gt;&gt; Baby &amp; Kids Gifts &gt;&gt; Stickers &gt;...</td>\n",
       "      <td>STIE5UVGW2JWVWCT</td>\n",
       "      <td>4500.0</td>\n",
       "      <td>1449.0</td>\n",
       "      <td>5912e037d12774bb73a2048f35a00009.jpg</td>\n",
       "      <td>False</td>\n",
       "      <td>Buy Uberlyfe Extra Large Pigmented Polyvinyl F...</td>\n",
       "      <td>No rating available</td>\n",
       "      <td>No rating available</td>\n",
       "      <td>Uberlyfe</td>\n",
       "      <td>{\"product_specification\"=&gt;[{\"key\"=&gt;\"Number of ...</td>\n",
       "      <td>Baby Care</td>\n",
       "    </tr>\n",
       "    <tr>\n",
       "      <th>1048</th>\n",
       "      <td>c3edc504d1b4f0ba6224fa53a43a7ad6</td>\n",
       "      <td>2015-12-01 10:15:43 +0000</td>\n",
       "      <td>http://www.flipkart.com/wallmantra-medium-viny...</td>\n",
       "      <td>Wallmantra Medium Vinyl Sticker Sticker</td>\n",
       "      <td>[\"Baby Care &gt;&gt; Baby &amp; Kids Gifts &gt;&gt; Stickers &gt;...</td>\n",
       "      <td>STIEC889ZGFD3RCE</td>\n",
       "      <td>3465.0</td>\n",
       "      <td>1333.0</td>\n",
       "      <td>c3edc504d1b4f0ba6224fa53a43a7ad6.jpg</td>\n",
       "      <td>False</td>\n",
       "      <td>Buy Wallmantra Medium Vinyl Sticker Sticker fo...</td>\n",
       "      <td>No rating available</td>\n",
       "      <td>No rating available</td>\n",
       "      <td>Wallmantra</td>\n",
       "      <td>{\"product_specification\"=&gt;[{\"key\"=&gt;\"Number of ...</td>\n",
       "      <td>Baby Care</td>\n",
       "    </tr>\n",
       "    <tr>\n",
       "      <th>1049</th>\n",
       "      <td>f2f027ad6a6df617c9f125173da71e44</td>\n",
       "      <td>2015-12-01 10:15:43 +0000</td>\n",
       "      <td>http://www.flipkart.com/uberlyfe-large-vinyl-s...</td>\n",
       "      <td>Uberlyfe Large Vinyl Sticker</td>\n",
       "      <td>[\"Baby Care &gt;&gt; Baby &amp; Kids Gifts &gt;&gt; Stickers &gt;...</td>\n",
       "      <td>STIE2ZEPACRQJKH7</td>\n",
       "      <td>1190.0</td>\n",
       "      <td>595.0</td>\n",
       "      <td>f2f027ad6a6df617c9f125173da71e44.jpg</td>\n",
       "      <td>False</td>\n",
       "      <td>Buy Uberlyfe Large Vinyl Sticker for Rs.595 on...</td>\n",
       "      <td>4</td>\n",
       "      <td>4</td>\n",
       "      <td>Uberlyfe</td>\n",
       "      <td>{\"product_specification\"=&gt;[{\"key\"=&gt;\"Sales Pack...</td>\n",
       "      <td>Baby Care</td>\n",
       "    </tr>\n",
       "  </tbody>\n",
       "</table>\n",
       "<p>1050 rows × 16 columns</p>\n",
       "</div>"
      ],
      "text/plain": [
       "     uniq_id                           crawl_timestamp             \\\n",
       "0     55b85ea15a1536d46b7190ad6fff8ce7  2016-04-30 03:22:56 +0000   \n",
       "1     7b72c92c2f6c40268628ec5f14c6d590  2016-04-30 03:22:56 +0000   \n",
       "2     64d5d4a258243731dc7bbb1eef49ad74  2016-04-30 03:22:56 +0000   \n",
       "3     d4684dcdc759dd9cdf41504698d737d8  2016-06-20 08:49:52 +0000   \n",
       "4     6325b6870c54cd47be6ebfbffa620ec7  2016-06-20 08:49:52 +0000   \n",
       "...                                ...                        ...   \n",
       "1045  958f54f4c46b53c8a0a9b8167d9140bc  2015-12-01 10:15:43 +0000   \n",
       "1046  fd6cbcc22efb6b761bd564c28928483c  2015-12-01 10:15:43 +0000   \n",
       "1047  5912e037d12774bb73a2048f35a00009  2015-12-01 10:15:43 +0000   \n",
       "1048  c3edc504d1b4f0ba6224fa53a43a7ad6  2015-12-01 10:15:43 +0000   \n",
       "1049  f2f027ad6a6df617c9f125173da71e44  2015-12-01 10:15:43 +0000   \n",
       "\n",
       "     product_url                                         \\\n",
       "0     http://www.flipkart.com/elegance-polyester-mul...   \n",
       "1     http://www.flipkart.com/sathiyas-cotton-bath-t...   \n",
       "2     http://www.flipkart.com/eurospa-cotton-terry-f...   \n",
       "3     http://www.flipkart.com/santosh-royal-fashion-...   \n",
       "4     http://www.flipkart.com/jaipur-print-cotton-fl...   \n",
       "...                                                 ...   \n",
       "1045  http://www.flipkart.com/oren-empower-extra-lar...   \n",
       "1046  http://www.flipkart.com/wallmantra-large-vinyl...   \n",
       "1047  http://www.flipkart.com/uberlyfe-extra-large-p...   \n",
       "1048  http://www.flipkart.com/wallmantra-medium-viny...   \n",
       "1049  http://www.flipkart.com/uberlyfe-large-vinyl-s...   \n",
       "\n",
       "     product_name                                        \\\n",
       "0     Elegance Polyester Multicolor Abstract Eyelet ...   \n",
       "1                            Sathiyas Cotton Bath Towel   \n",
       "2                   Eurospa Cotton Terry Face Towel Set   \n",
       "3     SANTOSH ROYAL FASHION Cotton Printed King size...   \n",
       "4     Jaipur Print Cotton Floral King sized Double B...   \n",
       "...                                                 ...   \n",
       "1045     Oren Empower Extra Large Self Adhesive Sticker   \n",
       "1046             Wallmantra Large Vinyl Sticker Sticker   \n",
       "1047  Uberlyfe Extra Large Pigmented Polyvinyl Films...   \n",
       "1048            Wallmantra Medium Vinyl Sticker Sticker   \n",
       "1049                       Uberlyfe Large Vinyl Sticker   \n",
       "\n",
       "     product_category_tree                              pid                \\\n",
       "0     [\"Home Furnishing >> Curtains & Accessories >>...  CRNEG7BKMFFYHQ8Z   \n",
       "1     [\"Baby Care >> Baby Bath & Skin >> Baby Bath T...  BTWEGFZHGBXPHZUH   \n",
       "2     [\"Baby Care >> Baby Bath & Skin >> Baby Bath T...  BTWEG6SHXTDB2A2Y   \n",
       "3     [\"Home Furnishing >> Bed Linen >> Bedsheets >>...  BDSEJT9UQWHDUBH4   \n",
       "4     [\"Home Furnishing >> Bed Linen >> Bedsheets >>...  BDSEJTHNGWVGWWQU   \n",
       "...                                                 ...               ...   \n",
       "1045  [\"Baby Care >> Baby & Kids Gifts >> Stickers >...  STIE88ZGTX65GH4V   \n",
       "1046  [\"Baby Care >> Baby & Kids Gifts >> Stickers >...  STIEC889ZD5GDCVQ   \n",
       "1047  [\"Baby Care >> Baby & Kids Gifts >> Stickers >...  STIE5UVGW2JWVWCT   \n",
       "1048  [\"Baby Care >> Baby & Kids Gifts >> Stickers >...  STIEC889ZGFD3RCE   \n",
       "1049  [\"Baby Care >> Baby & Kids Gifts >> Stickers >...  STIE2ZEPACRQJKH7   \n",
       "\n",
       "      retail_price  discounted_price image                                  \\\n",
       "0     1899.0         899.0            55b85ea15a1536d46b7190ad6fff8ce7.jpg   \n",
       "1      600.0         449.0            7b72c92c2f6c40268628ec5f14c6d590.jpg   \n",
       "2        NaN           NaN            64d5d4a258243731dc7bbb1eef49ad74.jpg   \n",
       "3     2699.0        1299.0            d4684dcdc759dd9cdf41504698d737d8.jpg   \n",
       "4     2599.0         698.0            6325b6870c54cd47be6ebfbffa620ec7.jpg   \n",
       "...            ...               ...                                   ...   \n",
       "1045  1399.0         999.0            958f54f4c46b53c8a0a9b8167d9140bc.jpg   \n",
       "1046  4930.0        1896.0            fd6cbcc22efb6b761bd564c28928483c.jpg   \n",
       "1047  4500.0        1449.0            5912e037d12774bb73a2048f35a00009.jpg   \n",
       "1048  3465.0        1333.0            c3edc504d1b4f0ba6224fa53a43a7ad6.jpg   \n",
       "1049  1190.0         595.0            f2f027ad6a6df617c9f125173da71e44.jpg   \n",
       "\n",
       "      is_FK_Advantage_product  \\\n",
       "0     False                     \n",
       "1     False                     \n",
       "2     False                     \n",
       "3     False                     \n",
       "4     False                     \n",
       "...                       ...   \n",
       "1045  False                     \n",
       "1046  False                     \n",
       "1047  False                     \n",
       "1048  False                     \n",
       "1049  False                     \n",
       "\n",
       "     description                                        product_rating        \\\n",
       "0     Key Features of Elegance Polyester Multicolor ...  No rating available   \n",
       "1     Specifications of Sathiyas Cotton Bath Towel (...  No rating available   \n",
       "2     Key Features of Eurospa Cotton Terry Face Towe...  No rating available   \n",
       "3     Key Features of SANTOSH ROYAL FASHION Cotton P...  No rating available   \n",
       "4     Key Features of Jaipur Print Cotton Floral Kin...  No rating available   \n",
       "...                                                 ...                  ...   \n",
       "1045  Oren Empower Extra Large Self Adhesive Sticker...  No rating available   \n",
       "1046  Wallmantra Large Vinyl Sticker Sticker (Pack o...  No rating available   \n",
       "1047  Buy Uberlyfe Extra Large Pigmented Polyvinyl F...  No rating available   \n",
       "1048  Buy Wallmantra Medium Vinyl Sticker Sticker fo...  No rating available   \n",
       "1049  Buy Uberlyfe Large Vinyl Sticker for Rs.595 on...                    4   \n",
       "\n",
       "     overall_rating       brand                   \\\n",
       "0     No rating available               Elegance   \n",
       "1     No rating available               Sathiyas   \n",
       "2     No rating available                Eurospa   \n",
       "3     No rating available  SANTOSH ROYAL FASHION   \n",
       "4     No rating available           Jaipur Print   \n",
       "...                   ...                    ...   \n",
       "1045  No rating available           Oren Empower   \n",
       "1046  No rating available             Wallmantra   \n",
       "1047  No rating available               Uberlyfe   \n",
       "1048  No rating available             Wallmantra   \n",
       "1049                    4               Uberlyfe   \n",
       "\n",
       "     product_specifications                             label             \n",
       "0     {\"product_specification\"=>[{\"key\"=>\"Brand\", \"v...  Home Furnishing  \n",
       "1     {\"product_specification\"=>[{\"key\"=>\"Machine Wa...        Baby Care  \n",
       "2     {\"product_specification\"=>[{\"key\"=>\"Material\",...        Baby Care  \n",
       "3     {\"product_specification\"=>[{\"key\"=>\"Brand\", \"v...  Home Furnishing  \n",
       "4     {\"product_specification\"=>[{\"key\"=>\"Machine Wa...  Home Furnishing  \n",
       "...                                                 ...              ...  \n",
       "1045  {\"product_specification\"=>[{\"key\"=>\"Number of ...        Baby Care  \n",
       "1046  {\"product_specification\"=>[{\"key\"=>\"Number of ...        Baby Care  \n",
       "1047  {\"product_specification\"=>[{\"key\"=>\"Number of ...        Baby Care  \n",
       "1048  {\"product_specification\"=>[{\"key\"=>\"Number of ...        Baby Care  \n",
       "1049  {\"product_specification\"=>[{\"key\"=>\"Sales Pack...        Baby Care  \n",
       "\n",
       "[1050 rows x 16 columns]"
      ]
     },
     "execution_count": 7,
     "metadata": {},
     "output_type": "execute_result"
    }
   ],
   "source": [
    "df_source"
   ]
  },
  {
   "cell_type": "markdown",
   "metadata": {},
   "source": [
    "# Feature engineering"
   ]
  },
  {
   "cell_type": "markdown",
   "metadata": {},
   "source": [
    "J'avais dans l'idée de créer un texte basé sur les variables product_name et product_specifications, mais c'est inutile car ils ont déjà été concaténés dans la variable description (note : le 861 y est bien ; c'est dû à une erreur dans le product_name, rectifié dans description)."
   ]
  },
  {
   "cell_type": "code",
   "execution_count": 8,
   "metadata": {
    "ExecuteTime": {
     "end_time": "2021-09-28T16:05:09.997645Z",
     "start_time": "2021-09-28T16:05:09.982644Z"
    }
   },
   "outputs": [
    {
     "name": "stdout",
     "output_type": "stream",
     "text": [
      "Il manque le produit numéro 861 dans description.\n"
     ]
    }
   ],
   "source": [
    "for i in range(len(df_source)):\n",
    "    if not (df_source['product_name'][i] in df_source['description'][i]):\n",
    "        print(f\"Il manque le produit numéro {i} dans description.\")"
   ]
  },
  {
   "cell_type": "code",
   "execution_count": 153,
   "metadata": {
    "ExecuteTime": {
     "end_time": "2021-09-28T20:03:31.824499Z",
     "start_time": "2021-09-28T20:03:31.793298Z"
    }
   },
   "outputs": [],
   "source": [
    "descriptions = df_source['description'].copy()"
   ]
  },
  {
   "cell_type": "markdown",
   "metadata": {},
   "source": [
    "# Nettoyage du texte"
   ]
  },
  {
   "cell_type": "markdown",
   "metadata": {},
   "source": [
    "Inspiré de : https://machinelearningmastery.com/clean-text-machine-learning-python/"
   ]
  },
  {
   "cell_type": "code",
   "execution_count": 208,
   "metadata": {
    "ExecuteTime": {
     "end_time": "2021-09-29T12:21:50.225319Z",
     "start_time": "2021-09-29T12:21:50.194119Z"
    }
   },
   "outputs": [],
   "source": [
    "def nettoyage_document(text, output='tokens'):\n",
    "    \"\"\" Tokenization et nettoyage d'un document :\n",
    "    1) tokenization,\n",
    "    2) casse = minuscule,\n",
    "    3) suppression de la ponctuation,\n",
    "    4) suppression des termes non alphabétiques,\n",
    "    5) suppression des stop words,\n",
    "    6) stemming.\n",
    "    Args :\n",
    "    - text : string (document) à nettoyer.\n",
    "    Returns :\n",
    "    - texte nettoyé (sous forme de liste de strings (tokens), ou de string reconcaténé)\n",
    "    \"\"\"\n",
    "    # split into words\n",
    "    from nltk.tokenize import word_tokenize\n",
    "    tokens = word_tokenize(text)\n",
    "    # convert to lower case\n",
    "    tokens = [w.lower() for w in tokens]\n",
    "    # remove punctuation from each word\n",
    "    import string\n",
    "    table = str.maketrans('', '', string.punctuation)\n",
    "    stripped = [w.translate(table) for w in tokens]\n",
    "    # remove remaining tokens that are not alphabetic\n",
    "    words = [word for word in stripped if word.isalpha()]\n",
    "    # filter out stop words\n",
    "    from nltk.corpus import stopwords\n",
    "    stop_words = set(stopwords.words('english'))\n",
    "    words = [w for w in words if w not in stop_words]\n",
    "    # stemming of words\n",
    "    from nltk.stem.porter import PorterStemmer\n",
    "    porter = PorterStemmer()\n",
    "    stemmed = [porter.stem(word) for word in words]\n",
    "    \n",
    "    # return\n",
    "    if output == 'tokens':\n",
    "        return stemmed\n",
    "    else:\n",
    "        return ' '.join(stemmed)\n"
   ]
  },
  {
   "cell_type": "code",
   "execution_count": 213,
   "metadata": {
    "ExecuteTime": {
     "end_time": "2021-09-29T12:22:53.034486Z",
     "start_time": "2021-09-29T12:22:53.002286Z"
    }
   },
   "outputs": [
    {
     "name": "stdout",
     "output_type": "stream",
     "text": [
      "Key Features of Mom and Kid Baby Girl's Printed Blue, Grey Top & Pyjama Set Fabric: Cotton Brand Color: Blue, Grey,Mom and Kid Baby Girl's Printed Blue, Grey Top & Pyjama Set Price: Rs. 309 Girls Pyjamaset,Specifications of Mom and Kid Baby Girl's Printed Blue, Grey Top & Pyjama Set General Details Pattern Printed Ideal For Baby Girl's Night Suit Details Number of Contents in Sales Package Pack of 1 Fabric Cotton Type Top & Pyjama Set Neck Round Nack In the Box 1 Top & Pyjama Set\n",
      "--------------------------------------------------\n"
     ]
    },
    {
     "data": {
      "text/plain": [
       "'key featur mom kid babi girl print blue grey top pyjama set fabric cotton brand color blue grey mom kid babi girl print blue grey top pyjama set price rs girl pyjamaset specif mom kid babi girl print blue grey top pyjama set gener detail pattern print ideal babi girl night suit detail number content sale packag pack fabric cotton type top pyjama set neck round nack box top pyjama set'"
      ]
     },
     "execution_count": 213,
     "metadata": {},
     "output_type": "execute_result"
    }
   ],
   "source": [
    "# test unitaire\n",
    "texte = descriptions[42]\n",
    "print(texte)\n",
    "print('-'*50)\n",
    "nettoyage_document(texte, output='string')"
   ]
  },
  {
   "cell_type": "code",
   "execution_count": 194,
   "metadata": {
    "ExecuteTime": {
     "end_time": "2021-09-29T10:11:51.365639Z",
     "start_time": "2021-09-29T10:11:49.459410Z"
    }
   },
   "outputs": [],
   "source": [
    "descriptions_stemmed = descriptions.copy().map(lambda texte : nettoyage_document(texte, output='string'))"
   ]
  },
  {
   "cell_type": "code",
   "execution_count": 212,
   "metadata": {
    "ExecuteTime": {
     "end_time": "2021-09-29T12:22:32.762665Z",
     "start_time": "2021-09-29T12:22:32.731465Z"
    },
    "scrolled": true
   },
   "outputs": [
    {
     "data": {
      "text/plain": [
       "'key featur mom kid babi girl print blue grey top pyjama set fabric cotton brand color blue grey mom kid babi girl print blue grey top pyjama set price rs girl pyjamaset specif mom kid babi girl print blue grey top pyjama set gener detail pattern print ideal babi girl night suit detail number content sale packag pack fabric cotton type top pyjama set neck round nack box top pyjama set'"
      ]
     },
     "execution_count": 212,
     "metadata": {},
     "output_type": "execute_result"
    }
   ],
   "source": [
    "descriptions_stemmed[42]"
   ]
  },
  {
   "cell_type": "code",
   "execution_count": null,
   "metadata": {},
   "outputs": [],
   "source": []
  },
  {
   "cell_type": "markdown",
   "metadata": {},
   "source": [
    "# Clustering du dataset description avec TF-IDF"
   ]
  },
  {
   "cell_type": "markdown",
   "metadata": {
    "ExecuteTime": {
     "end_time": "2021-09-28T20:04:09.120282Z",
     "start_time": "2021-09-28T20:04:09.104682Z"
    }
   },
   "source": [
    "Inspiré de :  https://scikit-learn.org/stable/auto_examples/text/plot_document_clustering.html"
   ]
  },
  {
   "cell_type": "markdown",
   "metadata": {},
   "source": [
    "## Dataset non nettoyé"
   ]
  },
  {
   "cell_type": "markdown",
   "metadata": {},
   "source": [
    "### CountVectorizer()"
   ]
  },
  {
   "cell_type": "code",
   "execution_count": 114,
   "metadata": {
    "ExecuteTime": {
     "end_time": "2021-09-28T19:48:51.551756Z",
     "start_time": "2021-09-28T19:48:51.460751Z"
    }
   },
   "outputs": [
    {
     "name": "stdout",
     "output_type": "stream",
     "text": [
      "Nb de features : 522 \n",
      "\n",
      "Features :\n",
      " ['10' '100' '12' '13' '14' '15' '150' '16' '17' '175' '18' '19' '199' '20' '200' '220' '225' '250' '299' '300' '329' '330' '349' '350' '399' '40' '45' '499' '50'\n",
      " '549' '550' '599' '5v' '60' '699' '75' '750' '799' '800' '899' '90' '999' 'abstract' 'ac' 'accessories' 'actual' 'adapter' 'add' 'additional' 'adorable'\n",
      " 'affordable' 'age' 'air' 'aluminium' 'antique' 'apple' 'apply' 'area' 'aroma' 'art' 'assured' 'attractive' 'audio' 'authentication' 'available' 'baby' 'bag' 'base'\n",
      " 'based' 'bath' 'battery' 'beautiful' 'beautifully' 'beauty' 'bed' 'bedroom' 'bedsheet' 'black' 'blanket' 'bleach' 'blue' 'body' 'bottle' 'boy' 'boys' 'brass'\n",
      " 'break' 'bring' 'brings' 'broadcast' 'brown' 'buckle' 'bulb' 'button' 'cable' 'capacity' 'care' 'carry' 'case' 'casual' 'catchy' 'caused' 'ce' 'cell' 'center'\n",
      " 'ceramic' 'certifications' 'charge' 'charger' 'check' 'checkered' 'cheer' 'clasp' 'classic' 'clean' 'closure' 'cloth' 'cms' 'code' 'coffee' 'cold' 'collection'\n",
      " 'colors' 'colour' 'colours' 'combo' 'come' 'comes' 'comfort' 'comfortable' 'comforters' 'company' 'compatible' 'connector' 'consumption' 'contemporary' 'copper'\n",
      " 'cord' 'cover' 'covered' 'covers' 'crafted' 'crafting' 'cream' 'creation' 'cupcakes' 'curtain' 'cushion' 'cushions' 'customer' 'cute' 'cutter' 'damage' 'dark'\n",
      " 'decor' 'decorative' 'defects' 'depth' 'designed' 'designer' 'designs' 'detergent' 'dial' 'diameter' 'different' 'digital' 'disclaimer' 'dishwasher' 'display'\n",
      " 'distinctive' 'does' 'don' 'door' 'double' 'dress' 'dry' 'dual' 'durability' 'durable' 'décor' 'ease' 'easily' 'easy' 'elegant' 'enjoy' 'enjoyment' 'ensure'\n",
      " 'ensuring' 'exclusive' 'express' 'external' 'eye' 'eyelet' 'face' 'factory' 'fantastic' 'fashion' 'feel' 'fine' 'finish' 'fit' 'flat' 'flexible' 'floral' 'forget'\n",
      " 'freedom' 'freezer' 'fresh' 'fruit' 'ganesha' 'gentle' 'geometric' 'gift' 'gifting' 'gifts' 'girl' 'girls' 'gives' 'glass' 'glossy' 'glue' 'gold' 'golden' 'good'\n",
      " 'grade' 'graphics' 'green' 'grey' 'group' 'gsm' 'gum' 'hair' 'half' 'hand' 'handcrafted' 'handle' 'handmade' 'hanging' 'happy' 'hard' 'haveli' 'height' 'help'\n",
      " 'high' 'highest' 'holiday' 'home' 'house' 'hp' 'huge' 'id' 'image' 'images' 'inch' 'inches' 'included' 'indicative' 'ink' 'install' 'installation' 'iron' 'item'\n",
      " 'jewellery' 'just' 'kadhai' 'kg' 'kids' 'king' 'kit' 'kitchen' 'knee' 'know' 'label' 'lal' 'lamination' 'lapguard' 'laptop' 'laptops' 'large' 'lasting' 'laughs'\n",
      " 'leaving' 'led' 'length' 'life' 'light' 'lights' 'like' 'limited' 'line' 'linen' 'little' 'living' 'long' 'look' 'looks' 'lord' 'love' 'loved' 'lovely' 'lowest'\n",
      " 'machine' 'magnetic' 'make' 'makes' 'making' 'manufacturing' 'massage' 'maxima' 'means' 'medium' 'men' 'message' 'metal' 'microwave' 'midi' 'mini' 'ml' 'mm'\n",
      " 'month' 'morning' 'mouse' 'mug' 'mugs' 'multi' 'multicolor' 'natural' 'necessary' 'neck' 'needs' 'new' 'night' 'non' 'normal' 'note' 'occasion' 'office' 'oil'\n",
      " 'ones' 'orange' 'order' 'organic' 'original' 'output' 'oxyglow' 'packing' 'pad' 'painting' 'paper' 'paris' 'parts' 'party' 'passes' 'pattern' 'pavilion' 'pc'\n",
      " 'perfect' 'performance' 'permanent' 'pick' 'picture' 'piece' 'pieces' 'pillow' 'pin' 'pink' 'pizza' 'place' 'plain' 'plastic' 'polyester' 'porcelain' 'port'\n",
      " 'portable' 'pot' 'power' 'powered' 'premium' 'presented' 'print' 'printed' 'printland' 'prints' 'prithish' 'product' 'provide' 'pure' 'quantity' 'quilts' 'quote'\n",
      " 'rajasthan' 'range' 'ranging' 'rectangle' 'red' 'regular' 'removal' 'remove' 'repair' 'required' 'residue' 'resistant' 'rest' 'rice' 'right' 'rockmantra' 'rohs'\n",
      " 'room' 'round' 'router' 'royal' 'safe' 'safety' 'says' 'scratch' 'screen' 'selection' 'self' 'send' 'series' 'serve' 'service' 'shade' 'shape' 'shapes' 'share'\n",
      " 'sheet' 'shirt' 'shop' 'short' 'showpiece' 'silver' 'similar' 'simple' 'single' 'sipping' 'sizes' 'skin' 'skins' 'sleeve' 'sleeveless' 'slightly' 'small' 'smart'\n",
      " 'smiles' 'soap' 'soft' 'solid' 'sonata' 'special' 'spf' 'stainless' 'start' 'statue' 'stays' 'steel' 'sticker' 'stone' 'strap' 'striped' 'style' 'stylish' 'suit'\n",
      " 'suitable' 'suitable_for' 'summary' 'sure' 'surface' 'table' 'talking' 'tea' 'tear' 'thrilling' 'time' 'times' 'touch' 'towel' 'towels' 'traditional' 'traits'\n",
      " 'trimning' 'tumble' 'tv' 'types' 'unique' 'usb' 'use' 'used' 'using' 'vanity' 'vary' 'velvet' 'video' 'vinyl' 'vitamin' 'voltage' 'wall' 'wardrobe' 'warm'\n",
      " 'warranty' 'wash' 'washable' 'water' 'waterproof' 'way' 'wear' 'wedding' 'weight' 'white' 'wide' 'width' 'wireless' 'women' 'wood' 'wooden' 'work' 'world' 'wrap'\n",
      " 'year' 'years' 'yellow' 'yes'] \n",
      "\n",
      "[[0 1 0 ... 0 0 0]\n",
      " [0 0 0 ... 0 2 1]\n",
      " [1 2 0 ... 1 0 0]\n",
      " ...\n",
      " [0 0 0 ... 0 0 0]\n",
      " [0 0 0 ... 0 0 0]\n",
      " [0 0 0 ... 0 0 0]]\n"
     ]
    },
    {
     "data": {
      "text/plain": [
       "<1050x522 sparse matrix of type '<class 'numpy.int64'>'\n",
       "\twith 12541 stored elements in Compressed Sparse Row format>"
      ]
     },
     "execution_count": 114,
     "metadata": {},
     "output_type": "execute_result"
    }
   ],
   "source": [
    "vectorizer = CountVectorizer(\n",
    "#                              max_features=500,\n",
    "                             stop_words='english',\n",
    "                             min_df=10,  # le terme doit être présent dans >=10 documents\n",
    "                             max_df=0.1   # le terme doit être présent dans <=10% des documents\n",
    "                             )\n",
    "vectorized = vectorizer.fit_transform(descriptions)\n",
    "\n",
    "print(\"Nb de features :\", vectorizer.get_feature_names_out().shape[0], \"\\n\")\n",
    "\n",
    "print(\"Features :\\n\", vectorizer.get_feature_names_out(), \"\\n\")\n",
    "\n",
    "print(vectorized.toarray())\n",
    "\n",
    "vectorized"
   ]
  },
  {
   "cell_type": "code",
   "execution_count": 106,
   "metadata": {
    "ExecuteTime": {
     "end_time": "2021-09-28T19:37:32.120908Z",
     "start_time": "2021-09-28T19:37:32.089707Z"
    },
    "scrolled": true
   },
   "outputs": [
    {
     "name": "stdout",
     "output_type": "stream",
     "text": [
      "  (0, 370)\t6\n",
      "  (0, 325)\t4\n",
      "  (0, 42)\t4\n",
      "  (0, 192)\t6\n",
      "  (0, 172)\t5\n",
      "  (0, 146)\t9\n",
      "  (0, 203)\t1\n",
      "  (0, 241)\t2\n",
      "  (0, 39)\t1\n",
      "  (0, 294)\t1\n",
      "  (0, 1)\t1\n",
      "  (0, 243)\t1\n",
      "  (0, 460)\t1\n",
      "  (0, 313)\t1\n",
      "  (0, 304)\t1\n",
      "  (0, 407)\t2\n",
      "  (0, 183)\t2\n",
      "  (0, 246)\t2\n",
      "  (0, 160)\t1\n",
      "  (0, 466)\t1\n",
      "  (0, 135)\t1\n",
      "  (0, 320)\t2\n",
      "  (0, 223)\t1\n",
      "  (0, 516)\t1\n",
      "  (0, 449)\t1\n",
      "  :\t:\n",
      "  (1046, 504)\t2\n",
      "  (1046, 59)\t2\n",
      "  (1046, 254)\t2\n",
      "  (1046, 397)\t2\n",
      "  (1046, 182)\t4\n",
      "  (1046, 278)\t1\n",
      "  (1046, 496)\t4\n",
      "  (1046, 456)\t4\n",
      "  (1046, 493)\t3\n",
      "  (1046, 56)\t8\n",
      "  (1046, 492)\t2\n",
      "  (1046, 377)\t2\n",
      "  (1046, 188)\t2\n",
      "  (1046, 186)\t2\n",
      "  (1046, 436)\t2\n",
      "  (1046, 244)\t2\n",
      "  (1046, 418)\t2\n",
      "  (1047, 278)\t2\n",
      "  (1047, 456)\t2\n",
      "  (1048, 310)\t2\n",
      "  (1048, 456)\t4\n",
      "  (1048, 493)\t2\n",
      "  (1049, 278)\t2\n",
      "  (1049, 456)\t2\n",
      "  (1049, 493)\t2\n"
     ]
    }
   ],
   "source": [
    "print(vectorized)"
   ]
  },
  {
   "cell_type": "code",
   "execution_count": 103,
   "metadata": {
    "ExecuteTime": {
     "end_time": "2021-09-28T19:32:57.122211Z",
     "start_time": "2021-09-28T19:32:57.091010Z"
    }
   },
   "outputs": [
    {
     "data": {
      "text/plain": [
       "'yellow'"
      ]
     },
     "execution_count": 103,
     "metadata": {},
     "output_type": "execute_result"
    }
   ],
   "source": [
    "terms = vectorizer.get_feature_names_out()\n",
    "terms[520]"
   ]
  },
  {
   "cell_type": "code",
   "execution_count": 100,
   "metadata": {
    "ExecuteTime": {
     "end_time": "2021-09-28T17:01:24.878770Z",
     "start_time": "2021-09-28T17:01:24.847570Z"
    }
   },
   "outputs": [
    {
     "data": {
      "text/plain": [
       "5321"
      ]
     },
     "execution_count": 100,
     "metadata": {},
     "output_type": "execute_result"
    }
   ],
   "source": [
    "len(vectorizer.stop_words_)"
   ]
  },
  {
   "cell_type": "markdown",
   "metadata": {},
   "source": [
    "### TfidfTransformer()"
   ]
  },
  {
   "cell_type": "code",
   "execution_count": 107,
   "metadata": {
    "ExecuteTime": {
     "end_time": "2021-09-28T19:38:19.845951Z",
     "start_time": "2021-09-28T19:38:19.814751Z"
    }
   },
   "outputs": [
    {
     "data": {
      "text/plain": [
       "<1050x522 sparse matrix of type '<class 'numpy.float64'>'\n",
       "\twith 12541 stored elements in Compressed Sparse Row format>"
      ]
     },
     "execution_count": 107,
     "metadata": {},
     "output_type": "execute_result"
    }
   ],
   "source": [
    "transformer = TfidfTransformer()\n",
    "X = transformer.fit_transform(vectorized)\n",
    "X"
   ]
  },
  {
   "cell_type": "code",
   "execution_count": 109,
   "metadata": {
    "ExecuteTime": {
     "end_time": "2021-09-28T19:39:20.687605Z",
     "start_time": "2021-09-28T19:39:20.662603Z"
    },
    "scrolled": true
   },
   "outputs": [
    {
     "data": {
      "text/plain": [
       "array([4.31991121, 3.9144461 , 4.46098981, 5.5596021 , 4.82200315, 4.62529286, 5.06712561, 4.9617651 , 5.24944717, 5.47259072, 4.9617651 , 5.39254801, 4.26861792,\n",
       "       5.31844004, 5.47259072, 5.5596021 , 5.24944717, 5.18490865, 4.40214931, 4.86645492, 5.47259072, 5.06712561, 5.39254801, 4.49176147, 4.46098981, 5.24944717,\n",
       "       5.5596021 , 4.62529286, 4.6616605 , 5.39254801, 5.39254801, 4.6616605 , 5.5596021 , 5.12428403, 5.01305839, 5.24944717, 5.47259072, 5.01305839, 5.12428403,\n",
       "       5.24944717, 5.39254801, 4.37397843, 4.19629726, 5.24944717, 5.06712561, 5.06712561, 5.24944717, 4.59020154, 3.51484611, 5.18490865, 5.24944717, 5.31844004,\n",
       "       5.5596021 , 5.31844004, 5.47259072, 5.47259072, 5.06712561, 5.12428403, 5.39254801, 4.73862155, 5.31844004, 4.73862155, 5.47259072, 5.39254801, 4.9617651 ,\n",
       "       3.36237752, 5.18490865, 5.39254801, 5.5596021 , 4.55629999, 4.17330774, 4.2439253 , 4.77944354, 5.47259072, 4.9617651 , 5.18490865, 5.39254801, 3.65343228,\n",
       "       4.59020154, 4.40214931, 3.81436264, 3.73798967, 4.82200315, 4.37397843, 3.95016419, 4.43113685, 5.31844004, 4.91297493, 5.01305839, 5.47259072, 4.40214931,\n",
       "       4.69940083, 5.47259072, 5.18490865, 5.24944717, 4.29393572, 3.36237752, 5.12428403, 4.12885597, 3.86315281, 5.39254801, 5.5596021 , 5.31844004, 4.73862155,\n",
       "       5.5596021 , 3.53865676, 5.39254801, 5.5596021 , 5.12428403, 5.18490865, 5.47259072, 5.24944717, 4.49176147, 5.39254801, 4.37397843, 5.31844004, 5.18490865,\n",
       "       5.31844004, 3.84662351, 4.43113685, 5.31844004, 4.73862155, 4.73862155, 4.73862155, 5.24944717, 3.38278639, 4.49176147, 4.69940083, 4.59020154, 4.69940083,\n",
       "       4.86645492, 5.5596021 , 4.73862155, 5.5596021 , 5.12428403, 5.39254801, 5.5596021 , 5.5596021 , 3.96851332, 4.49176147, 5.39254801, 5.06712561, 4.86645492,\n",
       "       5.06712561, 4.73862155, 5.47259072, 4.91297493, 5.39254801, 4.9617651 , 5.01305839, 4.77944354, 5.5596021 , 4.69940083, 4.69940083, 4.77944354, 5.01305839,\n",
       "       4.9617651 , 3.95016419, 3.95016419, 5.18490865, 4.59020154, 5.06712561, 3.73798967, 5.01305839, 5.39254801, 4.77944354, 5.31844004, 4.55629999, 5.5596021 ,\n",
       "       5.39254801, 5.31844004, 5.06712561, 5.01305839, 4.10734977, 4.69940083, 4.52351017, 5.39254801, 4.9617651 , 4.77944354, 5.5596021 , 5.47259072, 5.39254801,\n",
       "       3.96851332, 4.55629999, 5.01305839, 5.47259072, 5.5596021 , 4.82200315, 4.55629999, 5.39254801, 5.39254801, 5.39254801, 4.9617651 , 5.18490865, 5.18490865,\n",
       "       5.18490865, 5.47259072, 5.47259072, 4.9617651 , 4.43113685, 4.43113685, 5.47259072, 5.01305839, 4.26861792, 5.47259072, 5.47259072, 5.24944717, 4.34657946,\n",
       "       5.39254801, 5.5596021 , 5.18490865, 5.18490865, 3.60078854, 4.91297493, 4.91297493, 3.93214568, 3.98720546, 4.77944354, 5.01305839, 5.5596021 , 5.5596021 ,\n",
       "       4.31991121, 4.86645492, 4.6616605 , 5.39254801, 5.24944717, 4.21982775, 5.06712561, 5.18490865, 5.5596021 , 5.5596021 , 5.24944717, 5.24944717, 4.29393572,\n",
       "       5.39254801, 5.5596021 , 5.18490865, 5.5596021 , 5.01305839, 5.47259072, 5.5596021 , 3.468861  , 5.06712561, 3.7831101 , 5.24944717, 5.31844004, 3.55077812,\n",
       "       4.73862155, 4.86645492, 5.01305839, 3.95016419, 4.86645492, 5.31844004, 3.7831101 , 4.77944354, 4.73862155, 5.47259072, 5.47259072, 5.18490865, 5.47259072,\n",
       "       4.86645492, 5.06712561, 5.5596021 , 5.01305839, 4.82200315, 5.18490865, 4.91297493, 5.47259072, 5.12428403, 4.37397843, 5.39254801, 5.39254801, 5.39254801,\n",
       "       5.5596021 , 5.39254801, 5.47259072, 4.04547437, 5.24944717, 5.12428403, 5.24944717, 5.47259072, 4.82200315, 4.46098981, 3.69481749, 5.12428403, 4.04547437,\n",
       "       5.31844004, 4.06567707, 4.9617651 , 5.5596021 , 5.47259072, 5.39254801, 4.91297493, 4.40214931, 4.08629636, 4.9617651 , 5.5596021 , 4.73862155, 4.15083488,\n",
       "       5.5596021 , 5.06712561, 4.26861792, 5.39254801, 4.10734977, 5.12428403, 4.6616605 , 4.69940083, 5.47259072, 4.77944354, 5.39254801, 5.18490865, 3.468861  ,\n",
       "       5.39254801, 5.12428403, 4.34657946, 5.39254801, 4.77944354, 3.81436264, 4.9617651 , 4.77944354, 5.24944717, 5.24944717, 3.62676403, 5.12428403, 4.59020154,\n",
       "       3.48016056, 5.31844004, 5.39254801, 4.31991121, 4.9617651 , 4.69940083, 5.5596021 , 5.31844004, 4.9617651 , 4.73862155, 3.86315281, 5.31844004, 5.39254801,\n",
       "       4.49176147, 4.82200315, 5.18490865, 5.39254801, 5.06712561, 5.5596021 , 5.5596021 , 5.47259072, 5.12428403, 5.5596021 , 5.39254801, 5.47259072, 5.24944717,\n",
       "       4.6616605 , 5.39254801, 3.30353702, 5.31844004, 5.18490865, 3.61369195, 5.01305839, 4.86645492, 4.43113685, 5.06712561, 4.9617651 , 5.5596021 , 5.31844004,\n",
       "       5.47259072, 4.26861792, 5.5596021 , 4.62529286, 5.06712561, 4.62529286, 4.59020154, 4.86645492, 5.18490865, 4.9617651 , 5.5596021 , 4.2439253 , 5.39254801,\n",
       "       5.18490865, 5.39254801, 4.08629636, 3.70900213, 5.31844004, 5.5596021 , 4.6616605 , 3.4576877 , 4.6616605 , 5.06712561, 4.86645492, 4.86645492, 5.47259072,\n",
       "       5.24944717, 4.77944354, 5.47259072, 5.47259072, 4.34657946, 5.06712561, 5.5596021 , 4.82200315, 5.31844004, 5.18490865, 5.5596021 , 3.65343228, 5.12428403,\n",
       "       5.5596021 , 5.24944717, 4.82200315, 5.39254801, 4.49176147, 3.57547074, 5.12428403, 5.5596021 , 4.02567174, 5.18490865, 5.47259072, 5.01305839, 5.18490865,\n",
       "       5.47259072, 5.01305839, 5.47259072, 5.01305839, 5.18490865, 4.62529286, 4.55629999, 4.34657946, 5.39254801, 5.31844004, 4.82200315, 5.12428403, 5.5596021 ,\n",
       "       5.24944717, 3.32276838, 5.12428403, 4.73862155, 5.5596021 , 4.06567707, 5.47259072, 5.18490865, 4.55629999, 5.5596021 , 4.17330774, 5.12428403, 5.18490865,\n",
       "       5.24944717, 5.39254801, 5.47259072, 5.39254801, 4.04547437, 4.69940083, 4.82200315, 4.6616605 , 5.5596021 , 4.37397843, 4.77944354, 5.5596021 , 4.86645492,\n",
       "       4.17330774, 4.86645492, 5.31844004, 3.73798967, 5.39254801, 3.52668057, 4.46098981, 5.47259072, 4.19629726, 5.47259072, 4.43113685, 4.82200315, 5.18490865,\n",
       "       4.6616605 , 5.47259072, 4.9617651 , 5.5596021 , 4.86645492, 4.9617651 , 5.18490865, 5.39254801, 4.73862155, 5.18490865, 5.18490865, 4.46098981, 5.5596021 ,\n",
       "       5.47259072, 5.47259072, 5.01305839, 4.91297493, 4.06567707, 3.62676403, 4.55629999, 4.82200315, 5.5596021 , 4.62529286, 5.5596021 , 5.47259072, 4.86645492,\n",
       "       5.5596021 , 5.31844004, 4.69940083, 5.31844004, 5.24944717, 3.84662351, 3.58804952, 4.59020154, 3.34237685, 5.47259072, 4.86645492, 4.34657946, 5.18490865,\n",
       "       3.50315007, 4.15083488, 4.9617651 , 3.35232718, 5.06712561, 3.58804952, 5.06712561, 5.06712561, 5.18490865, 5.47259072, 5.5596021 , 5.24944717, 4.6616605 ,\n",
       "       4.6616605 , 3.65343228])"
      ]
     },
     "execution_count": 109,
     "metadata": {},
     "output_type": "execute_result"
    }
   ],
   "source": [
    "transformer.idf_"
   ]
  },
  {
   "cell_type": "markdown",
   "metadata": {},
   "source": [
    "### TfidfVectorizer()"
   ]
  },
  {
   "cell_type": "code",
   "execution_count": 132,
   "metadata": {
    "ExecuteTime": {
     "end_time": "2021-09-28T19:54:30.165355Z",
     "start_time": "2021-09-28T19:54:30.074152Z"
    },
    "scrolled": true
   },
   "outputs": [
    {
     "name": "stdout",
     "output_type": "stream",
     "text": [
      "n_samples: 1050, n_features: 6053\n"
     ]
    },
    {
     "data": {
      "text/plain": [
       "<1050x6053 sparse matrix of type '<class 'numpy.float64'>'\n",
       "\twith 46143 stored elements in Compressed Sparse Row format>"
      ]
     },
     "execution_count": 132,
     "metadata": {},
     "output_type": "execute_result"
    }
   ],
   "source": [
    "# TfidfVectorizer fait en one-pot CountVectorizer et TfidfTransformer\n",
    "\n",
    "# le meilleur ARI est obtenu en filtrant le moins de mots (pas de stop words)\n",
    "vectorizer = TfidfVectorizer(\n",
    "#                              max_features=500,\n",
    "#                              stop_words='english',\n",
    "#                              min_df=10,  # le terme doit être présent dans >=10 documents\n",
    "#                              max_df=0.1   # le terme doit être présent dans <=10% des documents\n",
    "                             )\n",
    "\n",
    "X = vectorizer.fit_transform(descriptions)\n",
    "print(\"n_samples: %d, n_features: %d\" % X.shape)\n",
    "X"
   ]
  },
  {
   "cell_type": "code",
   "execution_count": 149,
   "metadata": {
    "ExecuteTime": {
     "end_time": "2021-09-28T19:57:41.111055Z",
     "start_time": "2021-09-28T19:57:41.093054Z"
    }
   },
   "outputs": [
    {
     "data": {
      "text/plain": [
       "'defined'"
      ]
     },
     "execution_count": 149,
     "metadata": {},
     "output_type": "execute_result"
    }
   ],
   "source": [
    "terms = vectorizer.get_feature_names_out()\n",
    "terms[2001]"
   ]
  },
  {
   "cell_type": "markdown",
   "metadata": {},
   "source": [
    "### KMeans()"
   ]
  },
  {
   "cell_type": "code",
   "execution_count": 182,
   "metadata": {
    "ExecuteTime": {
     "end_time": "2021-09-29T09:44:50.630536Z",
     "start_time": "2021-09-29T09:44:50.613936Z"
    }
   },
   "outputs": [
    {
     "name": "stdout",
     "output_type": "stream",
     "text": [
      "\u001b[31mAdjusted Rand Index: 0.29\u001b[0m\n"
     ]
    }
   ],
   "source": [
    "km = KMeans(n_clusters=7, init='k-means++', max_iter=1000, n_init=100)\n",
    "km.fit(X)\n",
    "cprint(\"Adjusted Rand Index: %.2f\" %\n",
    "      adjusted_rand_score(df_source['label'], km.labels_), 'red')"
   ]
  },
  {
   "cell_type": "code",
   "execution_count": 133,
   "metadata": {
    "ExecuteTime": {
     "end_time": "2021-09-28T19:54:38.553063Z",
     "start_time": "2021-09-28T19:54:38.542062Z"
    }
   },
   "outputs": [
    {
     "data": {
      "text/plain": [
       "array([[0.00020061, 0.00034868, 0.00076091, ..., 0.00020939, 0.00096018, 0.        ],\n",
       "       [0.        , 0.        , 0.        , ..., 0.        , 0.        , 0.        ],\n",
       "       [0.        , 0.        , 0.        , ..., 0.        , 0.        , 0.        ],\n",
       "       ...,\n",
       "       [0.        , 0.        , 0.        , ..., 0.        , 0.        , 0.        ],\n",
       "       [0.        , 0.        , 0.        , ..., 0.        , 0.        , 0.        ],\n",
       "       [0.        , 0.        , 0.        , ..., 0.        , 0.        , 0.00647802]])"
      ]
     },
     "execution_count": 133,
     "metadata": {},
     "output_type": "execute_result"
    }
   ],
   "source": [
    "km.cluster_centers_"
   ]
  },
  {
   "cell_type": "code",
   "execution_count": 134,
   "metadata": {
    "ExecuteTime": {
     "end_time": "2021-09-28T19:54:39.242102Z",
     "start_time": "2021-09-28T19:54:39.230102Z"
    },
    "scrolled": true
   },
   "outputs": [
    {
     "data": {
      "text/plain": [
       "array([[6052, 1064, 3011, ..., 5497,  939, 3984],\n",
       "       [   0, 3976, 3975, ..., 3678,  934, 5874],\n",
       "       [   0, 4013, 4012, ..., 2576, 1702, 1061],\n",
       "       ...,\n",
       "       [   0, 3938, 3937, ..., 5007, 1231, 4408],\n",
       "       [   0, 3952, 3951, ..., 1540, 5566, 3804],\n",
       "       [   0, 3919, 3918, ..., 4019, 2576, 1702]], dtype=int64)"
      ]
     },
     "execution_count": 134,
     "metadata": {},
     "output_type": "execute_result"
    }
   ],
   "source": [
    "km.cluster_centers_.argsort()  # les coordonnées (des centres des clusters) sont triées de la plus petite à la plus grande"
   ]
  },
  {
   "cell_type": "code",
   "execution_count": 135,
   "metadata": {
    "ExecuteTime": {
     "end_time": "2021-09-28T19:54:39.918141Z",
     "start_time": "2021-09-28T19:54:39.903140Z"
    }
   },
   "outputs": [
    {
     "data": {
      "text/plain": [
       "array([[3984,  939, 5497, ..., 3011, 1064, 6052],\n",
       "       [5874,  934, 3678, ..., 3975, 3976,    0],\n",
       "       [1061, 1702, 2576, ..., 4012, 4013,    0],\n",
       "       ...,\n",
       "       [4408, 1231, 5007, ..., 3937, 3938,    0],\n",
       "       [3804, 5566, 1540, ..., 3951, 3952,    0],\n",
       "       [1702, 2576, 4019, ..., 3918, 3919,    0]], dtype=int64)"
      ]
     },
     "execution_count": 135,
     "metadata": {},
     "output_type": "execute_result"
    }
   ],
   "source": [
    "order_centroids = km.cluster_centers_.argsort()[:, ::-1]   # les coordonnées (des centres des clusters) sont triées de la plus grande à la plus petite\n",
    "order_centroids"
   ]
  },
  {
   "cell_type": "code",
   "execution_count": 152,
   "metadata": {
    "ExecuteTime": {
     "end_time": "2021-09-28T20:01:28.729057Z",
     "start_time": "2021-09-28T20:01:28.693857Z"
    }
   },
   "outputs": [
    {
     "name": "stdout",
     "output_type": "stream",
     "text": [
      "Cluster 0: of and the to cm in your is pack with\n",
      "Cluster 1: watch analog men at only discounts women india great for\n",
      "Cluster 2: at com flipkart genuine shipping cash delivery buy free products\n",
      "Cluster 3: baby girl details of fabric dress boy cotton sleeve neck\n",
      "Cluster 4: prices best showpiece with online cm at 30 guarantee day\n",
      "Cluster 5: mug to ceramic coffee and your it perfect mugs rockmantra\n",
      "Cluster 6: com flipkart only from guarantee 30 replacement day shipping genuine\n"
     ]
    }
   ],
   "source": [
    "for i in range(7):\n",
    "    print(\"Cluster %d:\" % i, end='')\n",
    "    for ind in order_centroids[i, :10]:\n",
    "        print(' %s' % terms[ind], end='')\n",
    "    print()"
   ]
  },
  {
   "cell_type": "markdown",
   "metadata": {},
   "source": [
    "Trop de mots inutiles ici : le fait de conserver tous les mots pour maximiser l'ARI conduit à avoir des \"stop words\" dans les mots clés."
   ]
  },
  {
   "cell_type": "markdown",
   "metadata": {},
   "source": [
    "## Dataset nettoyé"
   ]
  },
  {
   "cell_type": "code",
   "execution_count": null,
   "metadata": {},
   "outputs": [],
   "source": []
  }
 ],
 "metadata": {
  "kernelspec": {
   "display_name": "Python 3",
   "language": "python",
   "name": "python3"
  },
  "language_info": {
   "codemirror_mode": {
    "name": "ipython",
    "version": 3
   },
   "file_extension": ".py",
   "mimetype": "text/x-python",
   "name": "python",
   "nbconvert_exporter": "python",
   "pygments_lexer": "ipython3",
   "version": "3.8.5"
  },
  "toc": {
   "base_numbering": 1,
   "nav_menu": {},
   "number_sections": true,
   "sideBar": true,
   "skip_h1_title": false,
   "title_cell": "Table des matières",
   "title_sidebar": "Contents",
   "toc_cell": false,
   "toc_position": {
    "height": "calc(100% - 180px)",
    "left": "10px",
    "top": "150px",
    "width": "392.475px"
   },
   "toc_section_display": true,
   "toc_window_display": true
  }
 },
 "nbformat": 4,
 "nbformat_minor": 4
}
