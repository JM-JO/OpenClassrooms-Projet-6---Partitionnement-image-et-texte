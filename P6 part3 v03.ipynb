{
 "cells": [
  {
   "cell_type": "markdown",
   "metadata": {
    "ExecuteTime": {
     "end_time": "2021-09-17T13:47:21.701250Z",
     "start_time": "2021-09-17T13:47:21.685650Z"
    }
   },
   "source": [
    "# Mise en place du notebook"
   ]
  },
  {
   "cell_type": "markdown",
   "metadata": {},
   "source": [
    "## Versionning"
   ]
  },
  {
   "cell_type": "markdown",
   "metadata": {
    "ExecuteTime": {
     "end_time": "2021-09-23T09:54:54.157640Z",
     "start_time": "2021-09-23T09:54:54.149640Z"
    }
   },
   "source": [
    "P6 v7 : avant split entre \"P6 part1 v01\" (contient la récupération des données et le SIFT) et \"P6 part2 v01\" (contient VGG-16).  \n",
    "P6 part2 : début VGG-16.\n",
    "P6 part2 v03 : version ayant servi à la création de part 3.  \n",
    "P6 part3 v01 : tf-idf sur les data.  \n",
    "P6 part3 v02 : cleaning des data.    \n",
    "P6 part3 v03 : Word2Vec.    "
   ]
  },
  {
   "cell_type": "markdown",
   "metadata": {},
   "source": [
    "## Import des modules"
   ]
  },
  {
   "cell_type": "code",
   "execution_count": 181,
   "metadata": {
    "ExecuteTime": {
     "end_time": "2021-09-29T09:44:34.623639Z",
     "start_time": "2021-09-29T09:44:34.608039Z"
    }
   },
   "outputs": [],
   "source": [
    "# imports pour le développement\n",
    "from pympler import asizeof\n",
    "import mesfonctions\n",
    "from importlib import reload\n",
    "mesfonctions = reload(mesfonctions)\n",
    "\n",
    "# imports pour la production\n",
    "import numpy as np\n",
    "import pandas as pd\n",
    "import matplotlib.pyplot as plt\n",
    "from sklearn.cluster import KMeans, MiniBatchKMeans\n",
    "from sklearn.metrics import adjusted_rand_score\n",
    "import pickle\n",
    "from termcolor import colored, cprint\n",
    "\n",
    "\n",
    "# Pour NLP\n",
    "from sklearn.feature_extraction.text import TfidfVectorizer, CountVectorizer, TfidfTransformer\n"
   ]
  },
  {
   "cell_type": "markdown",
   "metadata": {},
   "source": [
    "## Fonctions courantes"
   ]
  },
  {
   "cell_type": "code",
   "execution_count": 3,
   "metadata": {
    "ExecuteTime": {
     "end_time": "2021-09-28T16:05:09.921041Z",
     "start_time": "2021-09-28T16:05:09.905441Z"
    }
   },
   "outputs": [],
   "source": [
    "def nom_fichier_photo(index, df=None):\n",
    "    \"\"\"Retourne le chemin + nom du fichier jpg d'une ligne de dataframe.\n",
    "    Args : \n",
    "    - index : index de la ligne de df.\n",
    "    Returns :\n",
    "    - string.\n",
    "    \"\"\"\n",
    "    if df is None:\n",
    "        df = df_source\n",
    "    return PATH + df['image'][index]"
   ]
  },
  {
   "cell_type": "markdown",
   "metadata": {},
   "source": [
    "## Constantes"
   ]
  },
  {
   "cell_type": "code",
   "execution_count": 4,
   "metadata": {
    "ExecuteTime": {
     "end_time": "2021-09-28T16:05:09.936641Z",
     "start_time": "2021-09-28T16:05:09.921041Z"
    }
   },
   "outputs": [],
   "source": [
    "PATH = \"Images_Flipkart/\""
   ]
  },
  {
   "cell_type": "markdown",
   "metadata": {},
   "source": [
    "## Gestion des paramètres d'affichage de Jupyter"
   ]
  },
  {
   "cell_type": "code",
   "execution_count": 5,
   "metadata": {
    "ExecuteTime": {
     "end_time": "2021-09-28T16:05:09.945642Z",
     "start_time": "2021-09-28T16:05:09.937641Z"
    }
   },
   "outputs": [
    {
     "data": {
      "text/html": [
       "<style>.container { width:95% }</style>"
      ],
      "text/plain": [
       "<IPython.core.display.HTML object>"
      ]
     },
     "execution_count": 5,
     "metadata": {},
     "output_type": "execute_result"
    }
   ],
   "source": [
    "from IPython.core.display import HTML\n",
    "plt.style.use('seaborn')\n",
    "\n",
    "# pour gérer l'affichage des dataframes pandas\n",
    "pd.options.display.max_rows = 100\n",
    "pd.options.display.max_columns = 200\n",
    "pd.set_option(\"colheader_justify\", \"left\")\n",
    "\n",
    "# pour gérer l'affichage des arrays numpy\n",
    "# 230 sur config bureau, 165 sur config portable\n",
    "np.set_printoptions(linewidth=165)\n",
    "\n",
    "# pour afficher les gros fichiers sur toute la largeur de l'écran\n",
    "HTML(\"<style>.container { width:95% }</style>\")"
   ]
  },
  {
   "cell_type": "markdown",
   "metadata": {},
   "source": [
    "# Chargement du dataframe"
   ]
  },
  {
   "cell_type": "code",
   "execution_count": 6,
   "metadata": {
    "ExecuteTime": {
     "end_time": "2021-09-28T16:05:09.954642Z",
     "start_time": "2021-09-28T16:05:09.947642Z"
    }
   },
   "outputs": [],
   "source": [
    "df_source = pickle.load(open('df_source.pkl', 'rb'))"
   ]
  },
  {
   "cell_type": "code",
   "execution_count": 7,
   "metadata": {
    "ExecuteTime": {
     "end_time": "2021-09-28T16:05:09.981644Z",
     "start_time": "2021-09-28T16:05:09.955642Z"
    }
   },
   "outputs": [
    {
     "data": {
      "text/html": [
       "<div>\n",
       "<style scoped>\n",
       "    .dataframe tbody tr th:only-of-type {\n",
       "        vertical-align: middle;\n",
       "    }\n",
       "\n",
       "    .dataframe tbody tr th {\n",
       "        vertical-align: top;\n",
       "    }\n",
       "\n",
       "    .dataframe thead th {\n",
       "        text-align: right;\n",
       "    }\n",
       "</style>\n",
       "<table border=\"1\" class=\"dataframe\">\n",
       "  <thead>\n",
       "    <tr style=\"text-align: left;\">\n",
       "      <th></th>\n",
       "      <th>uniq_id</th>\n",
       "      <th>crawl_timestamp</th>\n",
       "      <th>product_url</th>\n",
       "      <th>product_name</th>\n",
       "      <th>product_category_tree</th>\n",
       "      <th>pid</th>\n",
       "      <th>retail_price</th>\n",
       "      <th>discounted_price</th>\n",
       "      <th>image</th>\n",
       "      <th>is_FK_Advantage_product</th>\n",
       "      <th>description</th>\n",
       "      <th>product_rating</th>\n",
       "      <th>overall_rating</th>\n",
       "      <th>brand</th>\n",
       "      <th>product_specifications</th>\n",
       "      <th>label</th>\n",
       "    </tr>\n",
       "  </thead>\n",
       "  <tbody>\n",
       "    <tr>\n",
       "      <th>0</th>\n",
       "      <td>55b85ea15a1536d46b7190ad6fff8ce7</td>\n",
       "      <td>2016-04-30 03:22:56 +0000</td>\n",
       "      <td>http://www.flipkart.com/elegance-polyester-mul...</td>\n",
       "      <td>Elegance Polyester Multicolor Abstract Eyelet ...</td>\n",
       "      <td>[\"Home Furnishing &gt;&gt; Curtains &amp; Accessories &gt;&gt;...</td>\n",
       "      <td>CRNEG7BKMFFYHQ8Z</td>\n",
       "      <td>1899.0</td>\n",
       "      <td>899.0</td>\n",
       "      <td>55b85ea15a1536d46b7190ad6fff8ce7.jpg</td>\n",
       "      <td>False</td>\n",
       "      <td>Key Features of Elegance Polyester Multicolor ...</td>\n",
       "      <td>No rating available</td>\n",
       "      <td>No rating available</td>\n",
       "      <td>Elegance</td>\n",
       "      <td>{\"product_specification\"=&gt;[{\"key\"=&gt;\"Brand\", \"v...</td>\n",
       "      <td>Home Furnishing</td>\n",
       "    </tr>\n",
       "    <tr>\n",
       "      <th>1</th>\n",
       "      <td>7b72c92c2f6c40268628ec5f14c6d590</td>\n",
       "      <td>2016-04-30 03:22:56 +0000</td>\n",
       "      <td>http://www.flipkart.com/sathiyas-cotton-bath-t...</td>\n",
       "      <td>Sathiyas Cotton Bath Towel</td>\n",
       "      <td>[\"Baby Care &gt;&gt; Baby Bath &amp; Skin &gt;&gt; Baby Bath T...</td>\n",
       "      <td>BTWEGFZHGBXPHZUH</td>\n",
       "      <td>600.0</td>\n",
       "      <td>449.0</td>\n",
       "      <td>7b72c92c2f6c40268628ec5f14c6d590.jpg</td>\n",
       "      <td>False</td>\n",
       "      <td>Specifications of Sathiyas Cotton Bath Towel (...</td>\n",
       "      <td>No rating available</td>\n",
       "      <td>No rating available</td>\n",
       "      <td>Sathiyas</td>\n",
       "      <td>{\"product_specification\"=&gt;[{\"key\"=&gt;\"Machine Wa...</td>\n",
       "      <td>Baby Care</td>\n",
       "    </tr>\n",
       "    <tr>\n",
       "      <th>2</th>\n",
       "      <td>64d5d4a258243731dc7bbb1eef49ad74</td>\n",
       "      <td>2016-04-30 03:22:56 +0000</td>\n",
       "      <td>http://www.flipkart.com/eurospa-cotton-terry-f...</td>\n",
       "      <td>Eurospa Cotton Terry Face Towel Set</td>\n",
       "      <td>[\"Baby Care &gt;&gt; Baby Bath &amp; Skin &gt;&gt; Baby Bath T...</td>\n",
       "      <td>BTWEG6SHXTDB2A2Y</td>\n",
       "      <td>NaN</td>\n",
       "      <td>NaN</td>\n",
       "      <td>64d5d4a258243731dc7bbb1eef49ad74.jpg</td>\n",
       "      <td>False</td>\n",
       "      <td>Key Features of Eurospa Cotton Terry Face Towe...</td>\n",
       "      <td>No rating available</td>\n",
       "      <td>No rating available</td>\n",
       "      <td>Eurospa</td>\n",
       "      <td>{\"product_specification\"=&gt;[{\"key\"=&gt;\"Material\",...</td>\n",
       "      <td>Baby Care</td>\n",
       "    </tr>\n",
       "    <tr>\n",
       "      <th>3</th>\n",
       "      <td>d4684dcdc759dd9cdf41504698d737d8</td>\n",
       "      <td>2016-06-20 08:49:52 +0000</td>\n",
       "      <td>http://www.flipkart.com/santosh-royal-fashion-...</td>\n",
       "      <td>SANTOSH ROYAL FASHION Cotton Printed King size...</td>\n",
       "      <td>[\"Home Furnishing &gt;&gt; Bed Linen &gt;&gt; Bedsheets &gt;&gt;...</td>\n",
       "      <td>BDSEJT9UQWHDUBH4</td>\n",
       "      <td>2699.0</td>\n",
       "      <td>1299.0</td>\n",
       "      <td>d4684dcdc759dd9cdf41504698d737d8.jpg</td>\n",
       "      <td>False</td>\n",
       "      <td>Key Features of SANTOSH ROYAL FASHION Cotton P...</td>\n",
       "      <td>No rating available</td>\n",
       "      <td>No rating available</td>\n",
       "      <td>SANTOSH ROYAL FASHION</td>\n",
       "      <td>{\"product_specification\"=&gt;[{\"key\"=&gt;\"Brand\", \"v...</td>\n",
       "      <td>Home Furnishing</td>\n",
       "    </tr>\n",
       "    <tr>\n",
       "      <th>4</th>\n",
       "      <td>6325b6870c54cd47be6ebfbffa620ec7</td>\n",
       "      <td>2016-06-20 08:49:52 +0000</td>\n",
       "      <td>http://www.flipkart.com/jaipur-print-cotton-fl...</td>\n",
       "      <td>Jaipur Print Cotton Floral King sized Double B...</td>\n",
       "      <td>[\"Home Furnishing &gt;&gt; Bed Linen &gt;&gt; Bedsheets &gt;&gt;...</td>\n",
       "      <td>BDSEJTHNGWVGWWQU</td>\n",
       "      <td>2599.0</td>\n",
       "      <td>698.0</td>\n",
       "      <td>6325b6870c54cd47be6ebfbffa620ec7.jpg</td>\n",
       "      <td>False</td>\n",
       "      <td>Key Features of Jaipur Print Cotton Floral Kin...</td>\n",
       "      <td>No rating available</td>\n",
       "      <td>No rating available</td>\n",
       "      <td>Jaipur Print</td>\n",
       "      <td>{\"product_specification\"=&gt;[{\"key\"=&gt;\"Machine Wa...</td>\n",
       "      <td>Home Furnishing</td>\n",
       "    </tr>\n",
       "    <tr>\n",
       "      <th>...</th>\n",
       "      <td>...</td>\n",
       "      <td>...</td>\n",
       "      <td>...</td>\n",
       "      <td>...</td>\n",
       "      <td>...</td>\n",
       "      <td>...</td>\n",
       "      <td>...</td>\n",
       "      <td>...</td>\n",
       "      <td>...</td>\n",
       "      <td>...</td>\n",
       "      <td>...</td>\n",
       "      <td>...</td>\n",
       "      <td>...</td>\n",
       "      <td>...</td>\n",
       "      <td>...</td>\n",
       "      <td>...</td>\n",
       "    </tr>\n",
       "    <tr>\n",
       "      <th>1045</th>\n",
       "      <td>958f54f4c46b53c8a0a9b8167d9140bc</td>\n",
       "      <td>2015-12-01 10:15:43 +0000</td>\n",
       "      <td>http://www.flipkart.com/oren-empower-extra-lar...</td>\n",
       "      <td>Oren Empower Extra Large Self Adhesive Sticker</td>\n",
       "      <td>[\"Baby Care &gt;&gt; Baby &amp; Kids Gifts &gt;&gt; Stickers &gt;...</td>\n",
       "      <td>STIE88ZGTX65GH4V</td>\n",
       "      <td>1399.0</td>\n",
       "      <td>999.0</td>\n",
       "      <td>958f54f4c46b53c8a0a9b8167d9140bc.jpg</td>\n",
       "      <td>False</td>\n",
       "      <td>Oren Empower Extra Large Self Adhesive Sticker...</td>\n",
       "      <td>No rating available</td>\n",
       "      <td>No rating available</td>\n",
       "      <td>Oren Empower</td>\n",
       "      <td>{\"product_specification\"=&gt;[{\"key\"=&gt;\"Number of ...</td>\n",
       "      <td>Baby Care</td>\n",
       "    </tr>\n",
       "    <tr>\n",
       "      <th>1046</th>\n",
       "      <td>fd6cbcc22efb6b761bd564c28928483c</td>\n",
       "      <td>2015-12-01 10:15:43 +0000</td>\n",
       "      <td>http://www.flipkart.com/wallmantra-large-vinyl...</td>\n",
       "      <td>Wallmantra Large Vinyl Sticker Sticker</td>\n",
       "      <td>[\"Baby Care &gt;&gt; Baby &amp; Kids Gifts &gt;&gt; Stickers &gt;...</td>\n",
       "      <td>STIEC889ZD5GDCVQ</td>\n",
       "      <td>4930.0</td>\n",
       "      <td>1896.0</td>\n",
       "      <td>fd6cbcc22efb6b761bd564c28928483c.jpg</td>\n",
       "      <td>False</td>\n",
       "      <td>Wallmantra Large Vinyl Sticker Sticker (Pack o...</td>\n",
       "      <td>No rating available</td>\n",
       "      <td>No rating available</td>\n",
       "      <td>Wallmantra</td>\n",
       "      <td>{\"product_specification\"=&gt;[{\"key\"=&gt;\"Number of ...</td>\n",
       "      <td>Baby Care</td>\n",
       "    </tr>\n",
       "    <tr>\n",
       "      <th>1047</th>\n",
       "      <td>5912e037d12774bb73a2048f35a00009</td>\n",
       "      <td>2015-12-01 10:15:43 +0000</td>\n",
       "      <td>http://www.flipkart.com/uberlyfe-extra-large-p...</td>\n",
       "      <td>Uberlyfe Extra Large Pigmented Polyvinyl Films...</td>\n",
       "      <td>[\"Baby Care &gt;&gt; Baby &amp; Kids Gifts &gt;&gt; Stickers &gt;...</td>\n",
       "      <td>STIE5UVGW2JWVWCT</td>\n",
       "      <td>4500.0</td>\n",
       "      <td>1449.0</td>\n",
       "      <td>5912e037d12774bb73a2048f35a00009.jpg</td>\n",
       "      <td>False</td>\n",
       "      <td>Buy Uberlyfe Extra Large Pigmented Polyvinyl F...</td>\n",
       "      <td>No rating available</td>\n",
       "      <td>No rating available</td>\n",
       "      <td>Uberlyfe</td>\n",
       "      <td>{\"product_specification\"=&gt;[{\"key\"=&gt;\"Number of ...</td>\n",
       "      <td>Baby Care</td>\n",
       "    </tr>\n",
       "    <tr>\n",
       "      <th>1048</th>\n",
       "      <td>c3edc504d1b4f0ba6224fa53a43a7ad6</td>\n",
       "      <td>2015-12-01 10:15:43 +0000</td>\n",
       "      <td>http://www.flipkart.com/wallmantra-medium-viny...</td>\n",
       "      <td>Wallmantra Medium Vinyl Sticker Sticker</td>\n",
       "      <td>[\"Baby Care &gt;&gt; Baby &amp; Kids Gifts &gt;&gt; Stickers &gt;...</td>\n",
       "      <td>STIEC889ZGFD3RCE</td>\n",
       "      <td>3465.0</td>\n",
       "      <td>1333.0</td>\n",
       "      <td>c3edc504d1b4f0ba6224fa53a43a7ad6.jpg</td>\n",
       "      <td>False</td>\n",
       "      <td>Buy Wallmantra Medium Vinyl Sticker Sticker fo...</td>\n",
       "      <td>No rating available</td>\n",
       "      <td>No rating available</td>\n",
       "      <td>Wallmantra</td>\n",
       "      <td>{\"product_specification\"=&gt;[{\"key\"=&gt;\"Number of ...</td>\n",
       "      <td>Baby Care</td>\n",
       "    </tr>\n",
       "    <tr>\n",
       "      <th>1049</th>\n",
       "      <td>f2f027ad6a6df617c9f125173da71e44</td>\n",
       "      <td>2015-12-01 10:15:43 +0000</td>\n",
       "      <td>http://www.flipkart.com/uberlyfe-large-vinyl-s...</td>\n",
       "      <td>Uberlyfe Large Vinyl Sticker</td>\n",
       "      <td>[\"Baby Care &gt;&gt; Baby &amp; Kids Gifts &gt;&gt; Stickers &gt;...</td>\n",
       "      <td>STIE2ZEPACRQJKH7</td>\n",
       "      <td>1190.0</td>\n",
       "      <td>595.0</td>\n",
       "      <td>f2f027ad6a6df617c9f125173da71e44.jpg</td>\n",
       "      <td>False</td>\n",
       "      <td>Buy Uberlyfe Large Vinyl Sticker for Rs.595 on...</td>\n",
       "      <td>4</td>\n",
       "      <td>4</td>\n",
       "      <td>Uberlyfe</td>\n",
       "      <td>{\"product_specification\"=&gt;[{\"key\"=&gt;\"Sales Pack...</td>\n",
       "      <td>Baby Care</td>\n",
       "    </tr>\n",
       "  </tbody>\n",
       "</table>\n",
       "<p>1050 rows × 16 columns</p>\n",
       "</div>"
      ],
      "text/plain": [
       "     uniq_id                           crawl_timestamp             \\\n",
       "0     55b85ea15a1536d46b7190ad6fff8ce7  2016-04-30 03:22:56 +0000   \n",
       "1     7b72c92c2f6c40268628ec5f14c6d590  2016-04-30 03:22:56 +0000   \n",
       "2     64d5d4a258243731dc7bbb1eef49ad74  2016-04-30 03:22:56 +0000   \n",
       "3     d4684dcdc759dd9cdf41504698d737d8  2016-06-20 08:49:52 +0000   \n",
       "4     6325b6870c54cd47be6ebfbffa620ec7  2016-06-20 08:49:52 +0000   \n",
       "...                                ...                        ...   \n",
       "1045  958f54f4c46b53c8a0a9b8167d9140bc  2015-12-01 10:15:43 +0000   \n",
       "1046  fd6cbcc22efb6b761bd564c28928483c  2015-12-01 10:15:43 +0000   \n",
       "1047  5912e037d12774bb73a2048f35a00009  2015-12-01 10:15:43 +0000   \n",
       "1048  c3edc504d1b4f0ba6224fa53a43a7ad6  2015-12-01 10:15:43 +0000   \n",
       "1049  f2f027ad6a6df617c9f125173da71e44  2015-12-01 10:15:43 +0000   \n",
       "\n",
       "     product_url                                         \\\n",
       "0     http://www.flipkart.com/elegance-polyester-mul...   \n",
       "1     http://www.flipkart.com/sathiyas-cotton-bath-t...   \n",
       "2     http://www.flipkart.com/eurospa-cotton-terry-f...   \n",
       "3     http://www.flipkart.com/santosh-royal-fashion-...   \n",
       "4     http://www.flipkart.com/jaipur-print-cotton-fl...   \n",
       "...                                                 ...   \n",
       "1045  http://www.flipkart.com/oren-empower-extra-lar...   \n",
       "1046  http://www.flipkart.com/wallmantra-large-vinyl...   \n",
       "1047  http://www.flipkart.com/uberlyfe-extra-large-p...   \n",
       "1048  http://www.flipkart.com/wallmantra-medium-viny...   \n",
       "1049  http://www.flipkart.com/uberlyfe-large-vinyl-s...   \n",
       "\n",
       "     product_name                                        \\\n",
       "0     Elegance Polyester Multicolor Abstract Eyelet ...   \n",
       "1                            Sathiyas Cotton Bath Towel   \n",
       "2                   Eurospa Cotton Terry Face Towel Set   \n",
       "3     SANTOSH ROYAL FASHION Cotton Printed King size...   \n",
       "4     Jaipur Print Cotton Floral King sized Double B...   \n",
       "...                                                 ...   \n",
       "1045     Oren Empower Extra Large Self Adhesive Sticker   \n",
       "1046             Wallmantra Large Vinyl Sticker Sticker   \n",
       "1047  Uberlyfe Extra Large Pigmented Polyvinyl Films...   \n",
       "1048            Wallmantra Medium Vinyl Sticker Sticker   \n",
       "1049                       Uberlyfe Large Vinyl Sticker   \n",
       "\n",
       "     product_category_tree                              pid                \\\n",
       "0     [\"Home Furnishing >> Curtains & Accessories >>...  CRNEG7BKMFFYHQ8Z   \n",
       "1     [\"Baby Care >> Baby Bath & Skin >> Baby Bath T...  BTWEGFZHGBXPHZUH   \n",
       "2     [\"Baby Care >> Baby Bath & Skin >> Baby Bath T...  BTWEG6SHXTDB2A2Y   \n",
       "3     [\"Home Furnishing >> Bed Linen >> Bedsheets >>...  BDSEJT9UQWHDUBH4   \n",
       "4     [\"Home Furnishing >> Bed Linen >> Bedsheets >>...  BDSEJTHNGWVGWWQU   \n",
       "...                                                 ...               ...   \n",
       "1045  [\"Baby Care >> Baby & Kids Gifts >> Stickers >...  STIE88ZGTX65GH4V   \n",
       "1046  [\"Baby Care >> Baby & Kids Gifts >> Stickers >...  STIEC889ZD5GDCVQ   \n",
       "1047  [\"Baby Care >> Baby & Kids Gifts >> Stickers >...  STIE5UVGW2JWVWCT   \n",
       "1048  [\"Baby Care >> Baby & Kids Gifts >> Stickers >...  STIEC889ZGFD3RCE   \n",
       "1049  [\"Baby Care >> Baby & Kids Gifts >> Stickers >...  STIE2ZEPACRQJKH7   \n",
       "\n",
       "      retail_price  discounted_price image                                  \\\n",
       "0     1899.0         899.0            55b85ea15a1536d46b7190ad6fff8ce7.jpg   \n",
       "1      600.0         449.0            7b72c92c2f6c40268628ec5f14c6d590.jpg   \n",
       "2        NaN           NaN            64d5d4a258243731dc7bbb1eef49ad74.jpg   \n",
       "3     2699.0        1299.0            d4684dcdc759dd9cdf41504698d737d8.jpg   \n",
       "4     2599.0         698.0            6325b6870c54cd47be6ebfbffa620ec7.jpg   \n",
       "...            ...               ...                                   ...   \n",
       "1045  1399.0         999.0            958f54f4c46b53c8a0a9b8167d9140bc.jpg   \n",
       "1046  4930.0        1896.0            fd6cbcc22efb6b761bd564c28928483c.jpg   \n",
       "1047  4500.0        1449.0            5912e037d12774bb73a2048f35a00009.jpg   \n",
       "1048  3465.0        1333.0            c3edc504d1b4f0ba6224fa53a43a7ad6.jpg   \n",
       "1049  1190.0         595.0            f2f027ad6a6df617c9f125173da71e44.jpg   \n",
       "\n",
       "      is_FK_Advantage_product  \\\n",
       "0     False                     \n",
       "1     False                     \n",
       "2     False                     \n",
       "3     False                     \n",
       "4     False                     \n",
       "...                       ...   \n",
       "1045  False                     \n",
       "1046  False                     \n",
       "1047  False                     \n",
       "1048  False                     \n",
       "1049  False                     \n",
       "\n",
       "     description                                        product_rating        \\\n",
       "0     Key Features of Elegance Polyester Multicolor ...  No rating available   \n",
       "1     Specifications of Sathiyas Cotton Bath Towel (...  No rating available   \n",
       "2     Key Features of Eurospa Cotton Terry Face Towe...  No rating available   \n",
       "3     Key Features of SANTOSH ROYAL FASHION Cotton P...  No rating available   \n",
       "4     Key Features of Jaipur Print Cotton Floral Kin...  No rating available   \n",
       "...                                                 ...                  ...   \n",
       "1045  Oren Empower Extra Large Self Adhesive Sticker...  No rating available   \n",
       "1046  Wallmantra Large Vinyl Sticker Sticker (Pack o...  No rating available   \n",
       "1047  Buy Uberlyfe Extra Large Pigmented Polyvinyl F...  No rating available   \n",
       "1048  Buy Wallmantra Medium Vinyl Sticker Sticker fo...  No rating available   \n",
       "1049  Buy Uberlyfe Large Vinyl Sticker for Rs.595 on...                    4   \n",
       "\n",
       "     overall_rating       brand                   \\\n",
       "0     No rating available               Elegance   \n",
       "1     No rating available               Sathiyas   \n",
       "2     No rating available                Eurospa   \n",
       "3     No rating available  SANTOSH ROYAL FASHION   \n",
       "4     No rating available           Jaipur Print   \n",
       "...                   ...                    ...   \n",
       "1045  No rating available           Oren Empower   \n",
       "1046  No rating available             Wallmantra   \n",
       "1047  No rating available               Uberlyfe   \n",
       "1048  No rating available             Wallmantra   \n",
       "1049                    4               Uberlyfe   \n",
       "\n",
       "     product_specifications                             label             \n",
       "0     {\"product_specification\"=>[{\"key\"=>\"Brand\", \"v...  Home Furnishing  \n",
       "1     {\"product_specification\"=>[{\"key\"=>\"Machine Wa...        Baby Care  \n",
       "2     {\"product_specification\"=>[{\"key\"=>\"Material\",...        Baby Care  \n",
       "3     {\"product_specification\"=>[{\"key\"=>\"Brand\", \"v...  Home Furnishing  \n",
       "4     {\"product_specification\"=>[{\"key\"=>\"Machine Wa...  Home Furnishing  \n",
       "...                                                 ...              ...  \n",
       "1045  {\"product_specification\"=>[{\"key\"=>\"Number of ...        Baby Care  \n",
       "1046  {\"product_specification\"=>[{\"key\"=>\"Number of ...        Baby Care  \n",
       "1047  {\"product_specification\"=>[{\"key\"=>\"Number of ...        Baby Care  \n",
       "1048  {\"product_specification\"=>[{\"key\"=>\"Number of ...        Baby Care  \n",
       "1049  {\"product_specification\"=>[{\"key\"=>\"Sales Pack...        Baby Care  \n",
       "\n",
       "[1050 rows x 16 columns]"
      ]
     },
     "execution_count": 7,
     "metadata": {},
     "output_type": "execute_result"
    }
   ],
   "source": [
    "df_source"
   ]
  },
  {
   "cell_type": "markdown",
   "metadata": {},
   "source": [
    "# Corpus utilisé"
   ]
  },
  {
   "cell_type": "markdown",
   "metadata": {},
   "source": [
    "J'avais dans l'idée de créer un corpus de documents basé sur les variables product_name et product_specifications, mais c'est inutile car ils ont déjà été concaténés dans la variable description (note : le 861 y est bien ; c'est dû à une erreur dans le product_name, rectifié dans description)."
   ]
  },
  {
   "cell_type": "code",
   "execution_count": 8,
   "metadata": {
    "ExecuteTime": {
     "end_time": "2021-09-28T16:05:09.997645Z",
     "start_time": "2021-09-28T16:05:09.982644Z"
    }
   },
   "outputs": [
    {
     "name": "stdout",
     "output_type": "stream",
     "text": [
      "Il manque le produit numéro 861 dans description.\n"
     ]
    }
   ],
   "source": [
    "for i in range(len(df_source)):\n",
    "    if not (df_source['product_name'][i] in df_source['description'][i]):\n",
    "        print(f\"Il manque le produit numéro {i} dans description.\")"
   ]
  },
  {
   "cell_type": "markdown",
   "metadata": {},
   "source": [
    "Le corpus utilisé sera le suivant :"
   ]
  },
  {
   "cell_type": "code",
   "execution_count": 153,
   "metadata": {
    "ExecuteTime": {
     "end_time": "2021-09-28T20:03:31.824499Z",
     "start_time": "2021-09-28T20:03:31.793298Z"
    }
   },
   "outputs": [],
   "source": [
    "descriptions = df_source['description'].copy()"
   ]
  },
  {
   "cell_type": "markdown",
   "metadata": {},
   "source": [
    "# Nettoyage du texte"
   ]
  },
  {
   "cell_type": "markdown",
   "metadata": {},
   "source": [
    "Inspiré de : https://machinelearningmastery.com/clean-text-machine-learning-python/"
   ]
  },
  {
   "cell_type": "code",
   "execution_count": 298,
   "metadata": {
    "ExecuteTime": {
     "end_time": "2021-10-01T08:44:50.821755Z",
     "start_time": "2021-10-01T08:44:50.793154Z"
    }
   },
   "outputs": [],
   "source": [
    "def nettoyage_document(text, stemmed=True, output='tokens'):\n",
    "    \"\"\" Tokenization et nettoyage d'un document :\n",
    "    1) tokenization,\n",
    "    2) casse = minuscule,\n",
    "    3) suppression de la ponctuation,\n",
    "    4) suppression des termes non alphabétiques,\n",
    "    5) suppression des stop words,\n",
    "    6) stemming (optionnel).\n",
    "    Args :\n",
    "    - text : string (document) à nettoyer.\n",
    "    - output : string ('tokens' pour avoir des tokens en output, sinon l'output est un string des tokens concaténés)\n",
    "    Returns :\n",
    "    - texte nettoyé (sous forme de liste de strings (output='tokens'), ou de string reconcaténé)\n",
    "    \"\"\"\n",
    "    # split into words\n",
    "    from nltk.tokenize import word_tokenize\n",
    "    tokens = word_tokenize(text)\n",
    "    # convert to lower case\n",
    "    tokens = [w.lower() for w in tokens]\n",
    "    # remove punctuation from each word\n",
    "    import string\n",
    "    table = str.maketrans('', '', string.punctuation)\n",
    "    stripped = [w.translate(table) for w in tokens]\n",
    "    # remove remaining tokens that are not alphabetic\n",
    "    words = [word for word in stripped if word.isalpha()]\n",
    "    # filter out stop words\n",
    "    from nltk.corpus import stopwords\n",
    "    stop_words = set(stopwords.words('english'))\n",
    "    words = [w for w in words if w not in stop_words]\n",
    "    # stemming of words\n",
    "    if stemmed:\n",
    "        from nltk.stem.porter import PorterStemmer\n",
    "        porter = PorterStemmer()\n",
    "        words = [porter.stem(word) for word in words]\n",
    "    \n",
    "    # return\n",
    "    if output == 'tokens':\n",
    "        return words\n",
    "    else:\n",
    "        return ' '.join(words)\n"
   ]
  },
  {
   "cell_type": "code",
   "execution_count": 297,
   "metadata": {
    "ExecuteTime": {
     "end_time": "2021-10-01T08:43:44.476119Z",
     "start_time": "2021-10-01T08:43:44.457519Z"
    }
   },
   "outputs": [
    {
     "name": "stdout",
     "output_type": "stream",
     "text": [
      "Key Features of Elegance Polyester Multicolor Abstract Eyelet Door Curtain Floral Curtain,Elegance Polyester Multicolor Abstract Eyelet Door Curtain (213 cm in Height, Pack of 2) Price: Rs. 899 This curtain enhances the look of the interiors.This curtain is made from 100% high quality polyester fabric.It features an eyelet style stitch with Metal Ring.It makes the room environment romantic and loving.This curtain is ant- wrinkle and anti shrinkage and have elegant apparance.Give your home a bright and modernistic appeal with these designs. The surreal attention is sure to steal hearts. These contemporary eyelet and valance curtains slide smoothly so when you draw them apart first thing in the morning to welcome the bright sun rays you want to wish good morning to the whole world and when you draw them close in the evening, you create the most special moments of joyous beauty given by the soothing prints. Bring home the elegant curtain that softly filters light in your room so that you get the right amount of sunlight.,Specifications of Elegance Polyester Multicolor Abstract Eyelet Door Curtain (213 cm in Height, Pack of 2) General Brand Elegance Designed For Door Type Eyelet Model Name Abstract Polyester Door Curtain Set Of 2 Model ID Duster25 Color Multicolor Dimensions Length 213 cm In the Box Number of Contents in Sales Package Pack of 2 Sales Package 2 Curtains Body & Design Material Polyester\n",
      "--------------------------------------------------\n",
      "['key', 'features', 'elegance', 'polyester', 'multicolor', 'abstract', 'eyelet', 'door', 'curtain', 'floral', 'curtain', 'elegance', 'polyester', 'multicolor', 'abstract', 'eyelet', 'door', 'curtain', 'cm', 'height', 'pack', 'price', 'rs', 'curtain', 'enhances', 'look', 'interiorsthis', 'curtain', 'made', 'high', 'quality', 'polyester', 'fabricit', 'features', 'eyelet', 'style', 'stitch', 'metal', 'ringit', 'makes', 'room', 'environment', 'romantic', 'lovingthis', 'curtain', 'ant', 'wrinkle', 'anti', 'shrinkage', 'elegant', 'apparancegive', 'home', 'bright', 'modernistic', 'appeal', 'designs', 'surreal', 'attention', 'sure', 'steal', 'hearts', 'contemporary', 'eyelet', 'valance', 'curtains', 'slide', 'smoothly', 'draw', 'apart', 'first', 'thing', 'morning', 'welcome', 'bright', 'sun', 'rays', 'want', 'wish', 'good', 'morning', 'whole', 'world', 'draw', 'close', 'evening', 'create', 'special', 'moments', 'joyous', 'beauty', 'given', 'soothing', 'prints', 'bring', 'home', 'elegant', 'curtain', 'softly', 'filters', 'light', 'room', 'get', 'right', 'amount', 'sunlight', 'specifications', 'elegance', 'polyester', 'multicolor', 'abstract', 'eyelet', 'door', 'curtain', 'cm', 'height', 'pack', 'general', 'brand', 'elegance', 'designed', 'door', 'type', 'eyelet', 'model', 'name', 'abstract', 'polyester', 'door', 'curtain', 'set', 'model', 'id', 'color', 'multicolor', 'dimensions', 'length', 'cm', 'box', 'number', 'contents', 'sales', 'package', 'pack', 'sales', 'package', 'curtains', 'body', 'design', 'material', 'polyester']\n"
     ]
    }
   ],
   "source": [
    "# test unitaire\n",
    "texte = descriptions[0]\n",
    "print(texte)\n",
    "print('-'*50)\n",
    "print(nettoyage_document(texte, stemmed=False, output='tokens'))"
   ]
  },
  {
   "cell_type": "markdown",
   "metadata": {},
   "source": [
    "## Texte nettoyé et \"stemmed\" (pour TfidfVectorizer)"
   ]
  },
  {
   "cell_type": "code",
   "execution_count": 194,
   "metadata": {
    "ExecuteTime": {
     "end_time": "2021-09-29T10:11:51.365639Z",
     "start_time": "2021-09-29T10:11:49.459410Z"
    }
   },
   "outputs": [],
   "source": [
    "descriptions_stemmed = descriptions.copy().map(lambda texte : nettoyage_document(texte, output='string'))"
   ]
  },
  {
   "cell_type": "code",
   "execution_count": 300,
   "metadata": {
    "ExecuteTime": {
     "end_time": "2021-10-01T08:49:02.238953Z",
     "start_time": "2021-10-01T08:49:02.207753Z"
    }
   },
   "outputs": [
    {
     "data": {
      "text/plain": [
       "0       key featur eleg polyest multicolor abstract ey...\n",
       "1       specif sathiya cotton bath towel bath towel re...\n",
       "2       key featur eurospa cotton terri face towel set...\n",
       "3       key featur santosh royal fashion cotton print ...\n",
       "4       key featur jaipur print cotton floral king siz...\n",
       "                              ...                        \n",
       "1045    oren empow extra larg self adhes sticker pack ...\n",
       "1046    wallmantra larg vinyl sticker sticker pack pri...\n",
       "1047    buy uberlyf extra larg pigment polyvinyl film ...\n",
       "1048    buy wallmantra medium vinyl sticker sticker on...\n",
       "1049    buy uberlyf larg vinyl sticker onlin uberlyf l...\n",
       "Name: description, Length: 1050, dtype: object"
      ]
     },
     "execution_count": 300,
     "metadata": {},
     "output_type": "execute_result"
    }
   ],
   "source": [
    "descriptions_stemmed"
   ]
  },
  {
   "cell_type": "code",
   "execution_count": 212,
   "metadata": {
    "ExecuteTime": {
     "end_time": "2021-09-29T12:22:32.762665Z",
     "start_time": "2021-09-29T12:22:32.731465Z"
    },
    "scrolled": true
   },
   "outputs": [
    {
     "data": {
      "text/plain": [
       "'key featur mom kid babi girl print blue grey top pyjama set fabric cotton brand color blue grey mom kid babi girl print blue grey top pyjama set price rs girl pyjamaset specif mom kid babi girl print blue grey top pyjama set gener detail pattern print ideal babi girl night suit detail number content sale packag pack fabric cotton type top pyjama set neck round nack box top pyjama set'"
      ]
     },
     "execution_count": 212,
     "metadata": {},
     "output_type": "execute_result"
    }
   ],
   "source": [
    "descriptions_stemmed[42]"
   ]
  },
  {
   "cell_type": "markdown",
   "metadata": {},
   "source": [
    "## Texte nettoyé, sans stemming (pour Word2Vec, basé sur Google News 300)"
   ]
  },
  {
   "cell_type": "code",
   "execution_count": 302,
   "metadata": {
    "ExecuteTime": {
     "end_time": "2021-10-01T08:52:14.406696Z",
     "start_time": "2021-10-01T08:52:13.494286Z"
    }
   },
   "outputs": [],
   "source": [
    "descriptions_w2v = descriptions.copy().map(lambda texte : nettoyage_document(texte, stemmed=False, output='tokens'))"
   ]
  },
  {
   "cell_type": "code",
   "execution_count": 305,
   "metadata": {
    "ExecuteTime": {
     "end_time": "2021-10-01T08:52:39.858894Z",
     "start_time": "2021-10-01T08:52:39.833293Z"
    }
   },
   "outputs": [
    {
     "data": {
      "text/plain": [
       "0       [key, features, elegance, polyester, multicolo...\n",
       "1       [specifications, sathiyas, cotton, bath, towel...\n",
       "2       [key, features, eurospa, cotton, terry, face, ...\n",
       "3       [key, features, santosh, royal, fashion, cotto...\n",
       "4       [key, features, jaipur, print, cotton, floral,...\n",
       "                              ...                        \n",
       "1045    [oren, empower, extra, large, self, adhesive, ...\n",
       "1046    [wallmantra, large, vinyl, sticker, sticker, p...\n",
       "1047    [buy, uberlyfe, extra, large, pigmented, polyv...\n",
       "1048    [buy, wallmantra, medium, vinyl, sticker, stic...\n",
       "1049    [buy, uberlyfe, large, vinyl, sticker, online,...\n",
       "Name: description, Length: 1050, dtype: object"
      ]
     },
     "execution_count": 305,
     "metadata": {},
     "output_type": "execute_result"
    }
   ],
   "source": [
    "descriptions_w2v"
   ]
  },
  {
   "cell_type": "code",
   "execution_count": 307,
   "metadata": {
    "ExecuteTime": {
     "end_time": "2021-10-01T08:52:58.181634Z",
     "start_time": "2021-10-01T08:52:58.164034Z"
    },
    "scrolled": false
   },
   "outputs": [
    {
     "name": "stdout",
     "output_type": "stream",
     "text": [
      "['key', 'features', 'mom', 'kid', 'baby', 'girl', 'printed', 'blue', 'grey', 'top', 'pyjama', 'set', 'fabric', 'cotton', 'brand', 'color', 'blue', 'grey', 'mom', 'kid', 'baby', 'girl', 'printed', 'blue', 'grey', 'top', 'pyjama', 'set', 'price', 'rs', 'girls', 'pyjamaset', 'specifications', 'mom', 'kid', 'baby', 'girl', 'printed', 'blue', 'grey', 'top', 'pyjama', 'set', 'general', 'details', 'pattern', 'printed', 'ideal', 'baby', 'girl', 'night', 'suit', 'details', 'number', 'contents', 'sales', 'package', 'pack', 'fabric', 'cotton', 'type', 'top', 'pyjama', 'set', 'neck', 'round', 'nack', 'box', 'top', 'pyjama', 'set']\n"
     ]
    }
   ],
   "source": [
    "print(descriptions_w2v[42])"
   ]
  },
  {
   "cell_type": "markdown",
   "metadata": {},
   "source": [
    "## Texte nettoyé et stemmed (pour Word2Vec, entrainement sur dataset Flipkart)"
   ]
  },
  {
   "cell_type": "code",
   "execution_count": 351,
   "metadata": {
    "ExecuteTime": {
     "end_time": "2021-10-01T10:04:08.963900Z",
     "start_time": "2021-10-01T10:04:07.045084Z"
    }
   },
   "outputs": [],
   "source": [
    "descriptions_w2v_fk = descriptions.copy().map(lambda texte : nettoyage_document(texte, stemmed=True, output='tokens'))"
   ]
  },
  {
   "cell_type": "code",
   "execution_count": 352,
   "metadata": {
    "ExecuteTime": {
     "end_time": "2021-10-01T10:04:12.680134Z",
     "start_time": "2021-10-01T10:04:12.634933Z"
    }
   },
   "outputs": [
    {
     "data": {
      "text/plain": [
       "0       [key, featur, eleg, polyest, multicolor, abstr...\n",
       "1       [specif, sathiya, cotton, bath, towel, bath, t...\n",
       "2       [key, featur, eurospa, cotton, terri, face, to...\n",
       "3       [key, featur, santosh, royal, fashion, cotton,...\n",
       "4       [key, featur, jaipur, print, cotton, floral, k...\n",
       "                              ...                        \n",
       "1045    [oren, empow, extra, larg, self, adhes, sticke...\n",
       "1046    [wallmantra, larg, vinyl, sticker, sticker, pa...\n",
       "1047    [buy, uberlyf, extra, larg, pigment, polyvinyl...\n",
       "1048    [buy, wallmantra, medium, vinyl, sticker, stic...\n",
       "1049    [buy, uberlyf, larg, vinyl, sticker, onlin, ub...\n",
       "Name: description, Length: 1050, dtype: object"
      ]
     },
     "execution_count": 352,
     "metadata": {},
     "output_type": "execute_result"
    }
   ],
   "source": [
    "descriptions_w2v_fk"
   ]
  },
  {
   "cell_type": "code",
   "execution_count": 353,
   "metadata": {
    "ExecuteTime": {
     "end_time": "2021-10-01T10:04:23.489858Z",
     "start_time": "2021-10-01T10:04:23.474258Z"
    },
    "scrolled": true
   },
   "outputs": [
    {
     "name": "stdout",
     "output_type": "stream",
     "text": [
      "['key', 'featur', 'mom', 'kid', 'babi', 'girl', 'print', 'blue', 'grey', 'top', 'pyjama', 'set', 'fabric', 'cotton', 'brand', 'color', 'blue', 'grey', 'mom', 'kid', 'babi', 'girl', 'print', 'blue', 'grey', 'top', 'pyjama', 'set', 'price', 'rs', 'girl', 'pyjamaset', 'specif', 'mom', 'kid', 'babi', 'girl', 'print', 'blue', 'grey', 'top', 'pyjama', 'set', 'gener', 'detail', 'pattern', 'print', 'ideal', 'babi', 'girl', 'night', 'suit', 'detail', 'number', 'content', 'sale', 'packag', 'pack', 'fabric', 'cotton', 'type', 'top', 'pyjama', 'set', 'neck', 'round', 'nack', 'box', 'top', 'pyjama', 'set']\n"
     ]
    }
   ],
   "source": [
    "print(descriptions_w2v_fk[42])"
   ]
  },
  {
   "cell_type": "markdown",
   "metadata": {},
   "source": [
    "# Vectorisation par TF-IDF"
   ]
  },
  {
   "cell_type": "markdown",
   "metadata": {
    "ExecuteTime": {
     "end_time": "2021-09-28T20:04:09.120282Z",
     "start_time": "2021-09-28T20:04:09.104682Z"
    }
   },
   "source": [
    "Inspiré de :  https://scikit-learn.org/stable/auto_examples/text/plot_document_clustering.html"
   ]
  },
  {
   "cell_type": "markdown",
   "metadata": {},
   "source": [
    "## Dataset non nettoyé"
   ]
  },
  {
   "cell_type": "markdown",
   "metadata": {},
   "source": [
    "### CountVectorizer()"
   ]
  },
  {
   "cell_type": "code",
   "execution_count": 114,
   "metadata": {
    "ExecuteTime": {
     "end_time": "2021-09-28T19:48:51.551756Z",
     "start_time": "2021-09-28T19:48:51.460751Z"
    }
   },
   "outputs": [
    {
     "name": "stdout",
     "output_type": "stream",
     "text": [
      "Nb de features : 522 \n",
      "\n",
      "Features :\n",
      " ['10' '100' '12' '13' '14' '15' '150' '16' '17' '175' '18' '19' '199' '20' '200' '220' '225' '250' '299' '300' '329' '330' '349' '350' '399' '40' '45' '499' '50'\n",
      " '549' '550' '599' '5v' '60' '699' '75' '750' '799' '800' '899' '90' '999' 'abstract' 'ac' 'accessories' 'actual' 'adapter' 'add' 'additional' 'adorable'\n",
      " 'affordable' 'age' 'air' 'aluminium' 'antique' 'apple' 'apply' 'area' 'aroma' 'art' 'assured' 'attractive' 'audio' 'authentication' 'available' 'baby' 'bag' 'base'\n",
      " 'based' 'bath' 'battery' 'beautiful' 'beautifully' 'beauty' 'bed' 'bedroom' 'bedsheet' 'black' 'blanket' 'bleach' 'blue' 'body' 'bottle' 'boy' 'boys' 'brass'\n",
      " 'break' 'bring' 'brings' 'broadcast' 'brown' 'buckle' 'bulb' 'button' 'cable' 'capacity' 'care' 'carry' 'case' 'casual' 'catchy' 'caused' 'ce' 'cell' 'center'\n",
      " 'ceramic' 'certifications' 'charge' 'charger' 'check' 'checkered' 'cheer' 'clasp' 'classic' 'clean' 'closure' 'cloth' 'cms' 'code' 'coffee' 'cold' 'collection'\n",
      " 'colors' 'colour' 'colours' 'combo' 'come' 'comes' 'comfort' 'comfortable' 'comforters' 'company' 'compatible' 'connector' 'consumption' 'contemporary' 'copper'\n",
      " 'cord' 'cover' 'covered' 'covers' 'crafted' 'crafting' 'cream' 'creation' 'cupcakes' 'curtain' 'cushion' 'cushions' 'customer' 'cute' 'cutter' 'damage' 'dark'\n",
      " 'decor' 'decorative' 'defects' 'depth' 'designed' 'designer' 'designs' 'detergent' 'dial' 'diameter' 'different' 'digital' 'disclaimer' 'dishwasher' 'display'\n",
      " 'distinctive' 'does' 'don' 'door' 'double' 'dress' 'dry' 'dual' 'durability' 'durable' 'décor' 'ease' 'easily' 'easy' 'elegant' 'enjoy' 'enjoyment' 'ensure'\n",
      " 'ensuring' 'exclusive' 'express' 'external' 'eye' 'eyelet' 'face' 'factory' 'fantastic' 'fashion' 'feel' 'fine' 'finish' 'fit' 'flat' 'flexible' 'floral' 'forget'\n",
      " 'freedom' 'freezer' 'fresh' 'fruit' 'ganesha' 'gentle' 'geometric' 'gift' 'gifting' 'gifts' 'girl' 'girls' 'gives' 'glass' 'glossy' 'glue' 'gold' 'golden' 'good'\n",
      " 'grade' 'graphics' 'green' 'grey' 'group' 'gsm' 'gum' 'hair' 'half' 'hand' 'handcrafted' 'handle' 'handmade' 'hanging' 'happy' 'hard' 'haveli' 'height' 'help'\n",
      " 'high' 'highest' 'holiday' 'home' 'house' 'hp' 'huge' 'id' 'image' 'images' 'inch' 'inches' 'included' 'indicative' 'ink' 'install' 'installation' 'iron' 'item'\n",
      " 'jewellery' 'just' 'kadhai' 'kg' 'kids' 'king' 'kit' 'kitchen' 'knee' 'know' 'label' 'lal' 'lamination' 'lapguard' 'laptop' 'laptops' 'large' 'lasting' 'laughs'\n",
      " 'leaving' 'led' 'length' 'life' 'light' 'lights' 'like' 'limited' 'line' 'linen' 'little' 'living' 'long' 'look' 'looks' 'lord' 'love' 'loved' 'lovely' 'lowest'\n",
      " 'machine' 'magnetic' 'make' 'makes' 'making' 'manufacturing' 'massage' 'maxima' 'means' 'medium' 'men' 'message' 'metal' 'microwave' 'midi' 'mini' 'ml' 'mm'\n",
      " 'month' 'morning' 'mouse' 'mug' 'mugs' 'multi' 'multicolor' 'natural' 'necessary' 'neck' 'needs' 'new' 'night' 'non' 'normal' 'note' 'occasion' 'office' 'oil'\n",
      " 'ones' 'orange' 'order' 'organic' 'original' 'output' 'oxyglow' 'packing' 'pad' 'painting' 'paper' 'paris' 'parts' 'party' 'passes' 'pattern' 'pavilion' 'pc'\n",
      " 'perfect' 'performance' 'permanent' 'pick' 'picture' 'piece' 'pieces' 'pillow' 'pin' 'pink' 'pizza' 'place' 'plain' 'plastic' 'polyester' 'porcelain' 'port'\n",
      " 'portable' 'pot' 'power' 'powered' 'premium' 'presented' 'print' 'printed' 'printland' 'prints' 'prithish' 'product' 'provide' 'pure' 'quantity' 'quilts' 'quote'\n",
      " 'rajasthan' 'range' 'ranging' 'rectangle' 'red' 'regular' 'removal' 'remove' 'repair' 'required' 'residue' 'resistant' 'rest' 'rice' 'right' 'rockmantra' 'rohs'\n",
      " 'room' 'round' 'router' 'royal' 'safe' 'safety' 'says' 'scratch' 'screen' 'selection' 'self' 'send' 'series' 'serve' 'service' 'shade' 'shape' 'shapes' 'share'\n",
      " 'sheet' 'shirt' 'shop' 'short' 'showpiece' 'silver' 'similar' 'simple' 'single' 'sipping' 'sizes' 'skin' 'skins' 'sleeve' 'sleeveless' 'slightly' 'small' 'smart'\n",
      " 'smiles' 'soap' 'soft' 'solid' 'sonata' 'special' 'spf' 'stainless' 'start' 'statue' 'stays' 'steel' 'sticker' 'stone' 'strap' 'striped' 'style' 'stylish' 'suit'\n",
      " 'suitable' 'suitable_for' 'summary' 'sure' 'surface' 'table' 'talking' 'tea' 'tear' 'thrilling' 'time' 'times' 'touch' 'towel' 'towels' 'traditional' 'traits'\n",
      " 'trimning' 'tumble' 'tv' 'types' 'unique' 'usb' 'use' 'used' 'using' 'vanity' 'vary' 'velvet' 'video' 'vinyl' 'vitamin' 'voltage' 'wall' 'wardrobe' 'warm'\n",
      " 'warranty' 'wash' 'washable' 'water' 'waterproof' 'way' 'wear' 'wedding' 'weight' 'white' 'wide' 'width' 'wireless' 'women' 'wood' 'wooden' 'work' 'world' 'wrap'\n",
      " 'year' 'years' 'yellow' 'yes'] \n",
      "\n",
      "[[0 1 0 ... 0 0 0]\n",
      " [0 0 0 ... 0 2 1]\n",
      " [1 2 0 ... 1 0 0]\n",
      " ...\n",
      " [0 0 0 ... 0 0 0]\n",
      " [0 0 0 ... 0 0 0]\n",
      " [0 0 0 ... 0 0 0]]\n"
     ]
    },
    {
     "data": {
      "text/plain": [
       "<1050x522 sparse matrix of type '<class 'numpy.int64'>'\n",
       "\twith 12541 stored elements in Compressed Sparse Row format>"
      ]
     },
     "execution_count": 114,
     "metadata": {},
     "output_type": "execute_result"
    }
   ],
   "source": [
    "vectorizer = CountVectorizer(\n",
    "#                              max_features=500,\n",
    "                             stop_words='english',\n",
    "                             min_df=10,  # le terme doit être présent dans >=10 documents\n",
    "                             max_df=0.1   # le terme doit être présent dans <=10% des documents\n",
    "                             )\n",
    "vectorized = vectorizer.fit_transform(descriptions)\n",
    "\n",
    "print(\"Nb de features :\", vectorizer.get_feature_names_out().shape[0], \"\\n\")\n",
    "\n",
    "print(\"Features :\\n\", vectorizer.get_feature_names_out(), \"\\n\")\n",
    "\n",
    "print(vectorized.toarray())\n",
    "\n",
    "vectorized"
   ]
  },
  {
   "cell_type": "code",
   "execution_count": 106,
   "metadata": {
    "ExecuteTime": {
     "end_time": "2021-09-28T19:37:32.120908Z",
     "start_time": "2021-09-28T19:37:32.089707Z"
    },
    "scrolled": true
   },
   "outputs": [
    {
     "name": "stdout",
     "output_type": "stream",
     "text": [
      "  (0, 370)\t6\n",
      "  (0, 325)\t4\n",
      "  (0, 42)\t4\n",
      "  (0, 192)\t6\n",
      "  (0, 172)\t5\n",
      "  (0, 146)\t9\n",
      "  (0, 203)\t1\n",
      "  (0, 241)\t2\n",
      "  (0, 39)\t1\n",
      "  (0, 294)\t1\n",
      "  (0, 1)\t1\n",
      "  (0, 243)\t1\n",
      "  (0, 460)\t1\n",
      "  (0, 313)\t1\n",
      "  (0, 304)\t1\n",
      "  (0, 407)\t2\n",
      "  (0, 183)\t2\n",
      "  (0, 246)\t2\n",
      "  (0, 160)\t1\n",
      "  (0, 466)\t1\n",
      "  (0, 135)\t1\n",
      "  (0, 320)\t2\n",
      "  (0, 223)\t1\n",
      "  (0, 516)\t1\n",
      "  (0, 449)\t1\n",
      "  :\t:\n",
      "  (1046, 504)\t2\n",
      "  (1046, 59)\t2\n",
      "  (1046, 254)\t2\n",
      "  (1046, 397)\t2\n",
      "  (1046, 182)\t4\n",
      "  (1046, 278)\t1\n",
      "  (1046, 496)\t4\n",
      "  (1046, 456)\t4\n",
      "  (1046, 493)\t3\n",
      "  (1046, 56)\t8\n",
      "  (1046, 492)\t2\n",
      "  (1046, 377)\t2\n",
      "  (1046, 188)\t2\n",
      "  (1046, 186)\t2\n",
      "  (1046, 436)\t2\n",
      "  (1046, 244)\t2\n",
      "  (1046, 418)\t2\n",
      "  (1047, 278)\t2\n",
      "  (1047, 456)\t2\n",
      "  (1048, 310)\t2\n",
      "  (1048, 456)\t4\n",
      "  (1048, 493)\t2\n",
      "  (1049, 278)\t2\n",
      "  (1049, 456)\t2\n",
      "  (1049, 493)\t2\n"
     ]
    }
   ],
   "source": [
    "print(vectorized)"
   ]
  },
  {
   "cell_type": "code",
   "execution_count": 103,
   "metadata": {
    "ExecuteTime": {
     "end_time": "2021-09-28T19:32:57.122211Z",
     "start_time": "2021-09-28T19:32:57.091010Z"
    }
   },
   "outputs": [
    {
     "data": {
      "text/plain": [
       "'yellow'"
      ]
     },
     "execution_count": 103,
     "metadata": {},
     "output_type": "execute_result"
    }
   ],
   "source": [
    "terms = vectorizer.get_feature_names_out()\n",
    "terms[520]"
   ]
  },
  {
   "cell_type": "code",
   "execution_count": 100,
   "metadata": {
    "ExecuteTime": {
     "end_time": "2021-09-28T17:01:24.878770Z",
     "start_time": "2021-09-28T17:01:24.847570Z"
    }
   },
   "outputs": [
    {
     "data": {
      "text/plain": [
       "5321"
      ]
     },
     "execution_count": 100,
     "metadata": {},
     "output_type": "execute_result"
    }
   ],
   "source": [
    "len(vectorizer.stop_words_)"
   ]
  },
  {
   "cell_type": "markdown",
   "metadata": {},
   "source": [
    "### TfidfTransformer()"
   ]
  },
  {
   "cell_type": "code",
   "execution_count": 107,
   "metadata": {
    "ExecuteTime": {
     "end_time": "2021-09-28T19:38:19.845951Z",
     "start_time": "2021-09-28T19:38:19.814751Z"
    }
   },
   "outputs": [
    {
     "data": {
      "text/plain": [
       "<1050x522 sparse matrix of type '<class 'numpy.float64'>'\n",
       "\twith 12541 stored elements in Compressed Sparse Row format>"
      ]
     },
     "execution_count": 107,
     "metadata": {},
     "output_type": "execute_result"
    }
   ],
   "source": [
    "transformer = TfidfTransformer()\n",
    "X = transformer.fit_transform(vectorized)\n",
    "X"
   ]
  },
  {
   "cell_type": "code",
   "execution_count": 109,
   "metadata": {
    "ExecuteTime": {
     "end_time": "2021-09-28T19:39:20.687605Z",
     "start_time": "2021-09-28T19:39:20.662603Z"
    },
    "scrolled": true
   },
   "outputs": [
    {
     "data": {
      "text/plain": [
       "array([4.31991121, 3.9144461 , 4.46098981, 5.5596021 , 4.82200315, 4.62529286, 5.06712561, 4.9617651 , 5.24944717, 5.47259072, 4.9617651 , 5.39254801, 4.26861792,\n",
       "       5.31844004, 5.47259072, 5.5596021 , 5.24944717, 5.18490865, 4.40214931, 4.86645492, 5.47259072, 5.06712561, 5.39254801, 4.49176147, 4.46098981, 5.24944717,\n",
       "       5.5596021 , 4.62529286, 4.6616605 , 5.39254801, 5.39254801, 4.6616605 , 5.5596021 , 5.12428403, 5.01305839, 5.24944717, 5.47259072, 5.01305839, 5.12428403,\n",
       "       5.24944717, 5.39254801, 4.37397843, 4.19629726, 5.24944717, 5.06712561, 5.06712561, 5.24944717, 4.59020154, 3.51484611, 5.18490865, 5.24944717, 5.31844004,\n",
       "       5.5596021 , 5.31844004, 5.47259072, 5.47259072, 5.06712561, 5.12428403, 5.39254801, 4.73862155, 5.31844004, 4.73862155, 5.47259072, 5.39254801, 4.9617651 ,\n",
       "       3.36237752, 5.18490865, 5.39254801, 5.5596021 , 4.55629999, 4.17330774, 4.2439253 , 4.77944354, 5.47259072, 4.9617651 , 5.18490865, 5.39254801, 3.65343228,\n",
       "       4.59020154, 4.40214931, 3.81436264, 3.73798967, 4.82200315, 4.37397843, 3.95016419, 4.43113685, 5.31844004, 4.91297493, 5.01305839, 5.47259072, 4.40214931,\n",
       "       4.69940083, 5.47259072, 5.18490865, 5.24944717, 4.29393572, 3.36237752, 5.12428403, 4.12885597, 3.86315281, 5.39254801, 5.5596021 , 5.31844004, 4.73862155,\n",
       "       5.5596021 , 3.53865676, 5.39254801, 5.5596021 , 5.12428403, 5.18490865, 5.47259072, 5.24944717, 4.49176147, 5.39254801, 4.37397843, 5.31844004, 5.18490865,\n",
       "       5.31844004, 3.84662351, 4.43113685, 5.31844004, 4.73862155, 4.73862155, 4.73862155, 5.24944717, 3.38278639, 4.49176147, 4.69940083, 4.59020154, 4.69940083,\n",
       "       4.86645492, 5.5596021 , 4.73862155, 5.5596021 , 5.12428403, 5.39254801, 5.5596021 , 5.5596021 , 3.96851332, 4.49176147, 5.39254801, 5.06712561, 4.86645492,\n",
       "       5.06712561, 4.73862155, 5.47259072, 4.91297493, 5.39254801, 4.9617651 , 5.01305839, 4.77944354, 5.5596021 , 4.69940083, 4.69940083, 4.77944354, 5.01305839,\n",
       "       4.9617651 , 3.95016419, 3.95016419, 5.18490865, 4.59020154, 5.06712561, 3.73798967, 5.01305839, 5.39254801, 4.77944354, 5.31844004, 4.55629999, 5.5596021 ,\n",
       "       5.39254801, 5.31844004, 5.06712561, 5.01305839, 4.10734977, 4.69940083, 4.52351017, 5.39254801, 4.9617651 , 4.77944354, 5.5596021 , 5.47259072, 5.39254801,\n",
       "       3.96851332, 4.55629999, 5.01305839, 5.47259072, 5.5596021 , 4.82200315, 4.55629999, 5.39254801, 5.39254801, 5.39254801, 4.9617651 , 5.18490865, 5.18490865,\n",
       "       5.18490865, 5.47259072, 5.47259072, 4.9617651 , 4.43113685, 4.43113685, 5.47259072, 5.01305839, 4.26861792, 5.47259072, 5.47259072, 5.24944717, 4.34657946,\n",
       "       5.39254801, 5.5596021 , 5.18490865, 5.18490865, 3.60078854, 4.91297493, 4.91297493, 3.93214568, 3.98720546, 4.77944354, 5.01305839, 5.5596021 , 5.5596021 ,\n",
       "       4.31991121, 4.86645492, 4.6616605 , 5.39254801, 5.24944717, 4.21982775, 5.06712561, 5.18490865, 5.5596021 , 5.5596021 , 5.24944717, 5.24944717, 4.29393572,\n",
       "       5.39254801, 5.5596021 , 5.18490865, 5.5596021 , 5.01305839, 5.47259072, 5.5596021 , 3.468861  , 5.06712561, 3.7831101 , 5.24944717, 5.31844004, 3.55077812,\n",
       "       4.73862155, 4.86645492, 5.01305839, 3.95016419, 4.86645492, 5.31844004, 3.7831101 , 4.77944354, 4.73862155, 5.47259072, 5.47259072, 5.18490865, 5.47259072,\n",
       "       4.86645492, 5.06712561, 5.5596021 , 5.01305839, 4.82200315, 5.18490865, 4.91297493, 5.47259072, 5.12428403, 4.37397843, 5.39254801, 5.39254801, 5.39254801,\n",
       "       5.5596021 , 5.39254801, 5.47259072, 4.04547437, 5.24944717, 5.12428403, 5.24944717, 5.47259072, 4.82200315, 4.46098981, 3.69481749, 5.12428403, 4.04547437,\n",
       "       5.31844004, 4.06567707, 4.9617651 , 5.5596021 , 5.47259072, 5.39254801, 4.91297493, 4.40214931, 4.08629636, 4.9617651 , 5.5596021 , 4.73862155, 4.15083488,\n",
       "       5.5596021 , 5.06712561, 4.26861792, 5.39254801, 4.10734977, 5.12428403, 4.6616605 , 4.69940083, 5.47259072, 4.77944354, 5.39254801, 5.18490865, 3.468861  ,\n",
       "       5.39254801, 5.12428403, 4.34657946, 5.39254801, 4.77944354, 3.81436264, 4.9617651 , 4.77944354, 5.24944717, 5.24944717, 3.62676403, 5.12428403, 4.59020154,\n",
       "       3.48016056, 5.31844004, 5.39254801, 4.31991121, 4.9617651 , 4.69940083, 5.5596021 , 5.31844004, 4.9617651 , 4.73862155, 3.86315281, 5.31844004, 5.39254801,\n",
       "       4.49176147, 4.82200315, 5.18490865, 5.39254801, 5.06712561, 5.5596021 , 5.5596021 , 5.47259072, 5.12428403, 5.5596021 , 5.39254801, 5.47259072, 5.24944717,\n",
       "       4.6616605 , 5.39254801, 3.30353702, 5.31844004, 5.18490865, 3.61369195, 5.01305839, 4.86645492, 4.43113685, 5.06712561, 4.9617651 , 5.5596021 , 5.31844004,\n",
       "       5.47259072, 4.26861792, 5.5596021 , 4.62529286, 5.06712561, 4.62529286, 4.59020154, 4.86645492, 5.18490865, 4.9617651 , 5.5596021 , 4.2439253 , 5.39254801,\n",
       "       5.18490865, 5.39254801, 4.08629636, 3.70900213, 5.31844004, 5.5596021 , 4.6616605 , 3.4576877 , 4.6616605 , 5.06712561, 4.86645492, 4.86645492, 5.47259072,\n",
       "       5.24944717, 4.77944354, 5.47259072, 5.47259072, 4.34657946, 5.06712561, 5.5596021 , 4.82200315, 5.31844004, 5.18490865, 5.5596021 , 3.65343228, 5.12428403,\n",
       "       5.5596021 , 5.24944717, 4.82200315, 5.39254801, 4.49176147, 3.57547074, 5.12428403, 5.5596021 , 4.02567174, 5.18490865, 5.47259072, 5.01305839, 5.18490865,\n",
       "       5.47259072, 5.01305839, 5.47259072, 5.01305839, 5.18490865, 4.62529286, 4.55629999, 4.34657946, 5.39254801, 5.31844004, 4.82200315, 5.12428403, 5.5596021 ,\n",
       "       5.24944717, 3.32276838, 5.12428403, 4.73862155, 5.5596021 , 4.06567707, 5.47259072, 5.18490865, 4.55629999, 5.5596021 , 4.17330774, 5.12428403, 5.18490865,\n",
       "       5.24944717, 5.39254801, 5.47259072, 5.39254801, 4.04547437, 4.69940083, 4.82200315, 4.6616605 , 5.5596021 , 4.37397843, 4.77944354, 5.5596021 , 4.86645492,\n",
       "       4.17330774, 4.86645492, 5.31844004, 3.73798967, 5.39254801, 3.52668057, 4.46098981, 5.47259072, 4.19629726, 5.47259072, 4.43113685, 4.82200315, 5.18490865,\n",
       "       4.6616605 , 5.47259072, 4.9617651 , 5.5596021 , 4.86645492, 4.9617651 , 5.18490865, 5.39254801, 4.73862155, 5.18490865, 5.18490865, 4.46098981, 5.5596021 ,\n",
       "       5.47259072, 5.47259072, 5.01305839, 4.91297493, 4.06567707, 3.62676403, 4.55629999, 4.82200315, 5.5596021 , 4.62529286, 5.5596021 , 5.47259072, 4.86645492,\n",
       "       5.5596021 , 5.31844004, 4.69940083, 5.31844004, 5.24944717, 3.84662351, 3.58804952, 4.59020154, 3.34237685, 5.47259072, 4.86645492, 4.34657946, 5.18490865,\n",
       "       3.50315007, 4.15083488, 4.9617651 , 3.35232718, 5.06712561, 3.58804952, 5.06712561, 5.06712561, 5.18490865, 5.47259072, 5.5596021 , 5.24944717, 4.6616605 ,\n",
       "       4.6616605 , 3.65343228])"
      ]
     },
     "execution_count": 109,
     "metadata": {},
     "output_type": "execute_result"
    }
   ],
   "source": [
    "transformer.idf_"
   ]
  },
  {
   "cell_type": "markdown",
   "metadata": {},
   "source": [
    "### TfidfVectorizer()"
   ]
  },
  {
   "cell_type": "code",
   "execution_count": 132,
   "metadata": {
    "ExecuteTime": {
     "end_time": "2021-09-28T19:54:30.165355Z",
     "start_time": "2021-09-28T19:54:30.074152Z"
    },
    "scrolled": true
   },
   "outputs": [
    {
     "name": "stdout",
     "output_type": "stream",
     "text": [
      "n_samples: 1050, n_features: 6053\n"
     ]
    },
    {
     "data": {
      "text/plain": [
       "<1050x6053 sparse matrix of type '<class 'numpy.float64'>'\n",
       "\twith 46143 stored elements in Compressed Sparse Row format>"
      ]
     },
     "execution_count": 132,
     "metadata": {},
     "output_type": "execute_result"
    }
   ],
   "source": [
    "# TfidfVectorizer fait en one-pot CountVectorizer et TfidfTransformer\n",
    "\n",
    "# le meilleur ARI est obtenu en filtrant le moins de mots (pas de stop words)\n",
    "vectorizer = TfidfVectorizer(\n",
    "#                              max_features=500,\n",
    "#                              stop_words='english',\n",
    "#                              min_df=10,  # le terme doit être présent dans >=10 documents\n",
    "#                              max_df=0.1   # le terme doit être présent dans <=10% des documents\n",
    "                             )\n",
    "\n",
    "X = vectorizer.fit_transform(descriptions)\n",
    "print(\"n_samples: %d, n_features: %d\" % X.shape)\n",
    "X"
   ]
  },
  {
   "cell_type": "code",
   "execution_count": 149,
   "metadata": {
    "ExecuteTime": {
     "end_time": "2021-09-28T19:57:41.111055Z",
     "start_time": "2021-09-28T19:57:41.093054Z"
    }
   },
   "outputs": [
    {
     "data": {
      "text/plain": [
       "'defined'"
      ]
     },
     "execution_count": 149,
     "metadata": {},
     "output_type": "execute_result"
    }
   ],
   "source": [
    "terms = vectorizer.get_feature_names_out()\n",
    "terms[2001]"
   ]
  },
  {
   "cell_type": "markdown",
   "metadata": {},
   "source": [
    "### KMeans()"
   ]
  },
  {
   "cell_type": "code",
   "execution_count": 182,
   "metadata": {
    "ExecuteTime": {
     "end_time": "2021-09-29T09:44:50.630536Z",
     "start_time": "2021-09-29T09:44:50.613936Z"
    }
   },
   "outputs": [
    {
     "name": "stdout",
     "output_type": "stream",
     "text": [
      "\u001b[31mAdjusted Rand Index: 0.29\u001b[0m\n"
     ]
    }
   ],
   "source": [
    "km = KMeans(n_clusters=7, init='k-means++', max_iter=1000, n_init=100)\n",
    "km.fit(X)\n",
    "cprint(\"Adjusted Rand Index: %.2f\" %\n",
    "      adjusted_rand_score(df_source['label'], km.labels_), 'red')"
   ]
  },
  {
   "cell_type": "code",
   "execution_count": 133,
   "metadata": {
    "ExecuteTime": {
     "end_time": "2021-09-28T19:54:38.553063Z",
     "start_time": "2021-09-28T19:54:38.542062Z"
    }
   },
   "outputs": [
    {
     "data": {
      "text/plain": [
       "array([[0.00020061, 0.00034868, 0.00076091, ..., 0.00020939, 0.00096018, 0.        ],\n",
       "       [0.        , 0.        , 0.        , ..., 0.        , 0.        , 0.        ],\n",
       "       [0.        , 0.        , 0.        , ..., 0.        , 0.        , 0.        ],\n",
       "       ...,\n",
       "       [0.        , 0.        , 0.        , ..., 0.        , 0.        , 0.        ],\n",
       "       [0.        , 0.        , 0.        , ..., 0.        , 0.        , 0.        ],\n",
       "       [0.        , 0.        , 0.        , ..., 0.        , 0.        , 0.00647802]])"
      ]
     },
     "execution_count": 133,
     "metadata": {},
     "output_type": "execute_result"
    }
   ],
   "source": [
    "km.cluster_centers_"
   ]
  },
  {
   "cell_type": "code",
   "execution_count": 134,
   "metadata": {
    "ExecuteTime": {
     "end_time": "2021-09-28T19:54:39.242102Z",
     "start_time": "2021-09-28T19:54:39.230102Z"
    },
    "scrolled": true
   },
   "outputs": [
    {
     "data": {
      "text/plain": [
       "array([[6052, 1064, 3011, ..., 5497,  939, 3984],\n",
       "       [   0, 3976, 3975, ..., 3678,  934, 5874],\n",
       "       [   0, 4013, 4012, ..., 2576, 1702, 1061],\n",
       "       ...,\n",
       "       [   0, 3938, 3937, ..., 5007, 1231, 4408],\n",
       "       [   0, 3952, 3951, ..., 1540, 5566, 3804],\n",
       "       [   0, 3919, 3918, ..., 4019, 2576, 1702]], dtype=int64)"
      ]
     },
     "execution_count": 134,
     "metadata": {},
     "output_type": "execute_result"
    }
   ],
   "source": [
    "km.cluster_centers_.argsort()  # les coordonnées (des centres des clusters) sont triées de la plus petite à la plus grande"
   ]
  },
  {
   "cell_type": "code",
   "execution_count": 135,
   "metadata": {
    "ExecuteTime": {
     "end_time": "2021-09-28T19:54:39.918141Z",
     "start_time": "2021-09-28T19:54:39.903140Z"
    }
   },
   "outputs": [
    {
     "data": {
      "text/plain": [
       "array([[3984,  939, 5497, ..., 3011, 1064, 6052],\n",
       "       [5874,  934, 3678, ..., 3975, 3976,    0],\n",
       "       [1061, 1702, 2576, ..., 4012, 4013,    0],\n",
       "       ...,\n",
       "       [4408, 1231, 5007, ..., 3937, 3938,    0],\n",
       "       [3804, 5566, 1540, ..., 3951, 3952,    0],\n",
       "       [1702, 2576, 4019, ..., 3918, 3919,    0]], dtype=int64)"
      ]
     },
     "execution_count": 135,
     "metadata": {},
     "output_type": "execute_result"
    }
   ],
   "source": [
    "order_centroids = km.cluster_centers_.argsort()[:, ::-1]   # les coordonnées (des centres des clusters) sont triées de la plus grande à la plus petite\n",
    "order_centroids"
   ]
  },
  {
   "cell_type": "code",
   "execution_count": 152,
   "metadata": {
    "ExecuteTime": {
     "end_time": "2021-09-28T20:01:28.729057Z",
     "start_time": "2021-09-28T20:01:28.693857Z"
    },
    "scrolled": true
   },
   "outputs": [
    {
     "name": "stdout",
     "output_type": "stream",
     "text": [
      "Cluster 0: of and the to cm in your is pack with\n",
      "Cluster 1: watch analog men at only discounts women india great for\n",
      "Cluster 2: at com flipkart genuine shipping cash delivery buy free products\n",
      "Cluster 3: baby girl details of fabric dress boy cotton sleeve neck\n",
      "Cluster 4: prices best showpiece with online cm at 30 guarantee day\n",
      "Cluster 5: mug to ceramic coffee and your it perfect mugs rockmantra\n",
      "Cluster 6: com flipkart only from guarantee 30 replacement day shipping genuine\n"
     ]
    }
   ],
   "source": [
    "for i in range(7):\n",
    "    print(\"Cluster %d:\" % i, end='')\n",
    "    for ind in order_centroids[i, :10]:\n",
    "        print(' %s' % terms[ind], end='')\n",
    "    print()"
   ]
  },
  {
   "cell_type": "markdown",
   "metadata": {},
   "source": [
    "Trop de mots inutiles ici : le fait de conserver tous les mots pour maximiser l'ARI conduit à avoir des \"stop words\" dans les mots clés."
   ]
  },
  {
   "cell_type": "markdown",
   "metadata": {},
   "source": [
    "## Dataset nettoyé"
   ]
  },
  {
   "cell_type": "markdown",
   "metadata": {},
   "source": [
    "### TfidfVectorizer()"
   ]
  },
  {
   "cell_type": "code",
   "execution_count": 249,
   "metadata": {
    "ExecuteTime": {
     "end_time": "2021-09-29T12:53:09.777310Z",
     "start_time": "2021-09-29T12:53:09.692107Z"
    },
    "scrolled": true
   },
   "outputs": [
    {
     "name": "stdout",
     "output_type": "stream",
     "text": [
      "n_samples: 1050, n_features: 542\n"
     ]
    },
    {
     "data": {
      "text/plain": [
       "<1050x542 sparse matrix of type '<class 'numpy.float64'>'\n",
       "\twith 26178 stored elements in Compressed Sparse Row format>"
      ]
     },
     "execution_count": 249,
     "metadata": {},
     "output_type": "execute_result"
    }
   ],
   "source": [
    "# TfidfVectorizer fait en one-pot CountVectorizer et TfidfTransformer\n",
    "\n",
    "# le meilleur ARI est obtenu en filtrant le moins de mots (pas de stop words)\n",
    "vectorizer = TfidfVectorizer(\n",
    "#                              max_features=500,\n",
    "#                              stop_words='english',\n",
    "                             min_df=10,  # le terme doit être présent dans >=10 documents\n",
    "#                              max_df=0.1   # le terme doit être présent dans <=10% des documents\n",
    "                             )\n",
    "\n",
    "X = vectorizer.fit_transform(descriptions_stemmed)\n",
    "print(\"n_samples: %d, n_features: %d\" % X.shape)\n",
    "X"
   ]
  },
  {
   "cell_type": "markdown",
   "metadata": {},
   "source": [
    "### KMeans()"
   ]
  },
  {
   "cell_type": "code",
   "execution_count": 288,
   "metadata": {
    "ExecuteTime": {
     "end_time": "2021-09-29T12:56:42.259970Z",
     "start_time": "2021-09-29T12:56:36.287538Z"
    }
   },
   "outputs": [
    {
     "name": "stdout",
     "output_type": "stream",
     "text": [
      "\u001b[31mAdjusted Rand Index: 0.30\u001b[0m\n"
     ]
    }
   ],
   "source": [
    "km = KMeans(n_clusters=7, init='k-means++', max_iter=1000, n_init=100, tol=1e-10)\n",
    "km.fit(X)\n",
    "cprint(\"Adjusted Rand Index: %.2f\" %\n",
    "      adjusted_rand_score(df_source['label'], km.labels_), 'red')"
   ]
  },
  {
   "cell_type": "code",
   "execution_count": 228,
   "metadata": {
    "ExecuteTime": {
     "end_time": "2021-09-29T12:45:57.098298Z",
     "start_time": "2021-09-29T12:45:57.081697Z"
    },
    "scrolled": true
   },
   "outputs": [
    {
     "name": "stdout",
     "output_type": "stream",
     "text": [
      "Cluster 0: mug ceram coffe prithish perfect gift printland love one mm\n",
      "Cluster 1: flipkartcom cash genuin ship deliveri free buy rs product guarante\n",
      "Cluster 2: showpiec best cm onlin guarante usb replac day price genuin\n",
      "Cluster 3: babi detail girl fabric dress cotton sleev boy neck print\n",
      "Cluster 4: cm pack warranti design color featur cover inch box model\n",
      "Cluster 5: watch analog men discount india great women flipkartcom onlin sonata\n",
      "Cluster 6: rockmantra mug ceram porcelain thrill perman stay pick start yet\n"
     ]
    }
   ],
   "source": [
    "terms = vectorizer.get_feature_names_out()\n",
    "order_centroids = km.cluster_centers_.argsort()[:, ::-1]   # les coordonnées (des centres des clusters) sont triées de la plus grande à la plus petite\n",
    "for i in range(7):\n",
    "    print(\"Cluster %d:\" % i, end='')\n",
    "    for ind in order_centroids[i, :10]:\n",
    "        print(' %s' % terms[ind], end='')\n",
    "    print()"
   ]
  },
  {
   "cell_type": "markdown",
   "metadata": {},
   "source": [
    "Les 'stop words' usuels ont disparu, mais l'ARI n'a pas été amélioré."
   ]
  },
  {
   "cell_type": "markdown",
   "metadata": {},
   "source": [
    "# Vectorisation par Word2Vec"
   ]
  },
  {
   "cell_type": "markdown",
   "metadata": {},
   "source": [
    "## Modèle préentrainé (Google news vector)"
   ]
  },
  {
   "cell_type": "markdown",
   "metadata": {
    "ExecuteTime": {
     "end_time": "2021-10-01T08:34:45.692417Z",
     "start_time": "2021-10-01T08:34:45.683416Z"
    }
   },
   "source": [
    "Les mots de ce modèle préentrainé ne sont pas stemmed => notre texte ne devra pas être stemmed.  \n",
    "  \n",
    "Méthodologie inspirée de https://github.com/practical-nlp/practical-nlp-code/blob/master/Ch4/03_Word2Vec_Example.ipynb (mais le code de ce repo est bourré de bugs).  \n",
    "\n",
    "Chaque terme de notre dataset est converti en un vecteur par le modèle Word2Vec préentrainé.  \n",
    "Puis pour chaque document (donc chaque objet Flipkart) de notre dataset, on fait la moyenne des vecteurs de mots pour avoir un vecteur de document."
   ]
  },
  {
   "cell_type": "markdown",
   "metadata": {},
   "source": [
    "### Chargement du modèle"
   ]
  },
  {
   "cell_type": "code",
   "execution_count": 309,
   "metadata": {
    "ExecuteTime": {
     "end_time": "2021-10-01T09:09:15.759423Z",
     "start_time": "2021-10-01T09:08:48.119763Z"
    },
    "deletable": false,
    "editable": false,
    "run_control": {
     "frozen": true
    }
   },
   "outputs": [],
   "source": [
    "from gensim.models import KeyedVectors\n",
    "filename = 'GoogleNews-vectors-negative300.bin'\n",
    "gn300_model = KeyedVectors.load_word2vec_format(filename, binary=True)\n",
    "dimension = 300"
   ]
  },
  {
   "cell_type": "markdown",
   "metadata": {},
   "source": [
    "### Plongements"
   ]
  },
  {
   "cell_type": "code",
   "execution_count": 1064,
   "metadata": {
    "ExecuteTime": {
     "end_time": "2021-10-01T14:08:01.801331Z",
     "start_time": "2021-10-01T14:08:01.787330Z"
    }
   },
   "outputs": [],
   "source": [
    "# Creating a feature vector by averaging all embeddings for all sentences\n",
    "def creation_vecteurs_documents(model, dimension, documents):\n",
    "    \"\"\"Convertit un corpus de documents (itérables) qui contiennent des tokens (strings) en une liste de vecteurs (un vecteur par document).\n",
    "    Args :\n",
    "    - model : modèle Word2Vec (type gensim.models.keyedvectors.KeyedVectors)\n",
    "    - dimension du plongement Word2Vec.\n",
    "    - documents.\n",
    "    Returns :\n",
    "    - arrays numpy de avec dimension colonnes et autant de lignes que de documents.\n",
    "    \"\"\"\n",
    "    zero_vector = np.zeros(dimension)\n",
    "    vecteurs_documents = []\n",
    "    for document in documents:\n",
    "        sum_feat_for_doc = np.zeros(dimension)\n",
    "        count_for_doc = 0\n",
    "        for token in document:\n",
    "            if token in model:\n",
    "                sum_feat_for_doc += model[token]\n",
    "                count_for_doc += 1\n",
    "        if (count_for_doc != 0):\n",
    "            vecteur_document = sum_feat_for_doc / count_for_doc\n",
    "            vecteurs_documents.append(vecteur_document)\n",
    "        else:\n",
    "            vecteurs_documents.append(zero_vector)\n",
    "    return np.asarray(vecteurs_documents)"
   ]
  },
  {
   "cell_type": "code",
   "execution_count": 1067,
   "metadata": {
    "ExecuteTime": {
     "end_time": "2021-10-01T14:08:49.403644Z",
     "start_time": "2021-10-01T14:08:49.170036Z"
    },
    "scrolled": true
   },
   "outputs": [
    {
     "data": {
      "text/plain": [
       "(1050, 300)"
      ]
     },
     "execution_count": 1067,
     "metadata": {},
     "output_type": "execute_result"
    }
   ],
   "source": [
    "descriptions_w2v_vectorized = creation_vecteurs_documents(gn300_model, dimension=300, documents=descriptions_w2v)\n",
    "descriptions_w2v_vectorized.shape"
   ]
  },
  {
   "cell_type": "markdown",
   "metadata": {},
   "source": [
    "### KMeans()"
   ]
  },
  {
   "cell_type": "code",
   "execution_count": 1068,
   "metadata": {
    "ExecuteTime": {
     "end_time": "2021-10-01T14:08:54.250106Z",
     "start_time": "2021-10-01T14:08:53.015294Z"
    }
   },
   "outputs": [
    {
     "name": "stdout",
     "output_type": "stream",
     "text": [
      "\u001b[31mAdjusted Rand Index: 0.31\u001b[0m\n"
     ]
    }
   ],
   "source": [
    "km = KMeans(n_clusters=7, init='k-means++', max_iter=1000, n_init=100, tol=1e-10)\n",
    "km.fit(descriptions_w2v_vectorized)\n",
    "cprint(\"Adjusted Rand Index: %.2f\" %\n",
    "      adjusted_rand_score(df_source['label'], km.labels_), 'red')"
   ]
  },
  {
   "cell_type": "code",
   "execution_count": 392,
   "metadata": {
    "ExecuteTime": {
     "end_time": "2021-10-01T11:26:47.638126Z",
     "start_time": "2021-10-01T11:26:46.053876Z"
    },
    "scrolled": true
   },
   "outputs": [
    {
     "name": "stdout",
     "output_type": "stream",
     "text": [
      "\u001b[31mCluster 0:\u001b[0m[('Sizes_vary', 0.746658205986023), ('TEXOMA_Water', 0.7330780029296875), ('RICHLAND_CHAMBERS_Water', 0.7227294445037842), ('Unroll_dough', 0.7157683968544006), ('anthracite_colored', 0.6903131008148193), ('rubberised_grip', 0.6869513392448425), ('fabric_swatch', 0.6773638725280762), ('produces_PET_polymers', 0.6762831807136536), ('soft_microfiber', 0.6753159165382385), ('Crimp_edges', 0.6724409461021423)]\n",
      "\n",
      "\u001b[31mCluster 1:\u001b[0m[('Puh_lease_gimme', 0.6609619855880737), ('Taken_miscellaneous', 0.647247314453125), ('VistaPrint_printed', 0.6456901431083679), ('By_Kat_Zeman', 0.6442174315452576), ('BY_ANDY_THOMPSON', 0.6391348242759705), ('Gift_wrapping', 0.6376383900642395), ('By_Jonas_Elmerraji', 0.6332645416259766), ('viii_component', 0.6321559548377991), ('Powdered_formula', 0.6315187811851501), ('By_Joseph_Woelfel', 0.631367027759552)]\n",
      "\n",
      "\u001b[31mCluster 2:\u001b[0m[('terry_robe', 0.70156329870224), ('TEXOMA_Water', 0.6939738988876343), ('RICHLAND_CHAMBERS_Water', 0.6874212026596069), ('stretchy_fabrics', 0.6853587627410889), ('hooded_poncho', 0.6839431524276733), ('chiffon_silk', 0.6829577684402466), ('red_Loompaland_kids', 0.6827594041824341), ('Strappy_sandals', 0.6824005842208862), ('gray_flannel_shirt', 0.681206464767456), ('freight_forwarding_localization', 0.6769869327545166)]\n",
      "\n",
      "\u001b[31mCluster 3:\u001b[0m[('Thecus_®_NAS', 0.7263027429580688), ('Creative_Zen_Mozaic', 0.7188778519630432), ('SATA_6Gbit/sec', 0.7089216709136963), ('1Gig_DIMM', 0.7006964087486267), ('Requires_4G', 0.697540819644928), ('Walkman_Obit_Remembering', 0.694043755531311), ('NetDock', 0.6916423439979553), ('microUSB_connector', 0.6885610818862915), ('bootable_flash', 0.688165545463562), ('ethernet_jack', 0.6866797804832458)]\n",
      "\n",
      "\u001b[31mCluster 4:\u001b[0m[('Puh_lease_gimme', 0.6568152904510498), ('Gift_wrapping', 0.6560968160629272), ('Taken_miscellaneous', 0.6545242667198181), ('produces_PET_polymers', 0.6484453082084656), ('THC_infused_lozenges', 0.6238142848014832), ('sheets_comforters', 0.6214609146118164), ('silliest_BlackBerry', 0.6149203777313232), ('Powdered_formula', 0.6148198246955872), ('decorative_tins', 0.6126554608345032), (\"BY_JULIE_O'CONNOR\", 0.6102675199508667)]\n",
      "\n",
      "\u001b[31mCluster 5:\u001b[0m[('TEXOMA_Water', 0.7245161533355713), ('By_Jonas_Elmerraji', 0.7239115238189697), ('Sizes_vary', 0.7181865572929382), ('THC_infused_lozenges', 0.716221272945404), ('marble_floorings', 0.7130715250968933), ('By_Elise_Viebeck', 0.7126845717430115), ('By_Laurelle_Gilbert', 0.711990475654602), ('%_#F########_3v.jsn', 0.7104839086532593), ('By_Kat_Zeman', 0.7094877362251282), ('Safiya_Godlas', 0.7066335082054138)]\n",
      "\n",
      "\u001b[31mCluster 6:\u001b[0m[('By_Kat_Zeman', 0.6695296764373779), ('By_Joseph_Woelfel', 0.6581684947013855), ('By_Laurie_Kulikowski', 0.6547316312789917), ('By_Jonas_Elmerraji', 0.6537861824035645), (\"JW_'S_SALOON\", 0.6457127332687378), ('SECOND_SPOT_DISPATCHES_FROM', 0.6454264521598816), ('By_Sara_Faiwell', 0.645131528377533), ('Buy_generic_Clomid', 0.6450158953666687), ('By_Christine_Fenno', 0.6416295766830444), ('BY_VINCENT_MAO', 0.6379788517951965)]\n",
      "\n"
     ]
    }
   ],
   "source": [
    "for i in range(len(km.cluster_centers_)):\n",
    "    cprint(\"Cluster %d:\" % i, 'red', end='')\n",
    "    print(gn300_model.most_similar(km.cluster_centers_[i]))\n",
    "    print()"
   ]
  },
  {
   "cell_type": "markdown",
   "metadata": {},
   "source": [
    "## Modèle entrainé sur dataset Flipkart"
   ]
  },
  {
   "cell_type": "markdown",
   "metadata": {
    "ExecuteTime": {
     "end_time": "2021-10-01T08:34:45.692417Z",
     "start_time": "2021-10-01T08:34:45.683416Z"
    }
   },
   "source": [
    "Les mots de ce modèle ont été stemmed.\n",
    "  \n",
    "Méthodologie inspirée de https://radimrehurek.com/gensim/auto_examples/tutorials/run_word2vec.html#sphx-glr-auto-examples-tutorials-run-word2vec-py  \n",
    "et de https://machinelearningmastery.com/develop-word-embeddings-python-gensim/  "
   ]
  },
  {
   "cell_type": "markdown",
   "metadata": {},
   "source": [
    "### Entrainement du modèle"
   ]
  },
  {
   "cell_type": "code",
   "execution_count": 1058,
   "metadata": {
    "ExecuteTime": {
     "end_time": "2021-10-01T13:34:19.306242Z",
     "start_time": "2021-10-01T13:34:17.853965Z"
    }
   },
   "outputs": [],
   "source": [
    "from gensim.models import Word2Vec\n",
    "# train model\n",
    "dimension = 100\n",
    "fk_model = Word2Vec(sentences=descriptions_w2v_fk,\n",
    "                    min_count=5,\n",
    "                    vector_size=dimension,\n",
    "                    window=4,\n",
    "                    compute_loss=True,\n",
    "                    negative=0,\n",
    "                    sg=0,\n",
    "                    hs=0,\n",
    "                    epochs=100,\n",
    "                    alpha=1e-3,\n",
    "                    min_alpha=1e-8)\n",
    "# fk_model = Word2Vec(sentences=descriptions_w2v_fk, min_count=5, epochs=20)"
   ]
  },
  {
   "cell_type": "code",
   "execution_count": 1059,
   "metadata": {
    "ExecuteTime": {
     "end_time": "2021-10-01T13:34:19.310242Z",
     "start_time": "2021-10-01T13:34:19.307242Z"
    }
   },
   "outputs": [
    {
     "data": {
      "text/plain": [
       "0.0"
      ]
     },
     "execution_count": 1059,
     "metadata": {},
     "output_type": "execute_result"
    }
   ],
   "source": [
    "fk_model.get_latest_training_loss()"
   ]
  },
  {
   "cell_type": "code",
   "execution_count": 1060,
   "metadata": {
    "ExecuteTime": {
     "end_time": "2021-10-01T13:34:19.317242Z",
     "start_time": "2021-10-01T13:34:19.311242Z"
    },
    "scrolled": true
   },
   "outputs": [
    {
     "name": "stdout",
     "output_type": "stream",
     "text": [
      "#0/1379 : product\n",
      "#1/1379 : free\n",
      "#2/1379 : rs\n",
      "#3/1379 : buy\n",
      "#4/1379 : replac\n",
      "#5/1379 : ship\n",
      "#6/1379 : cm\n",
      "#7/1379 : deliveri\n",
      "#8/1379 : genuin\n",
      "#9/1379 : cash\n"
     ]
    }
   ],
   "source": [
    "for index, word in enumerate(fk_model.wv.index_to_key):\n",
    "    if index == 10:\n",
    "        break\n",
    "    print(f\"#{index}/{len(fk_model.wv.index_to_key)} : {word}\")"
   ]
  },
  {
   "cell_type": "code",
   "execution_count": 385,
   "metadata": {
    "ExecuteTime": {
     "end_time": "2021-10-01T11:16:42.276782Z",
     "start_time": "2021-10-01T11:16:37.211953Z"
    },
    "deletable": false,
    "editable": false,
    "run_control": {
     "frozen": true
    },
    "scrolled": true
   },
   "outputs": [
    {
     "name": "stderr",
     "output_type": "stream",
     "text": [
      "C:\\ProgramData\\Anaconda3\\lib\\site-packages\\sklearn\\manifold\\_t_sne.py:780: FutureWarning:\n",
      "\n",
      "The default initialization in TSNE will change from 'random' to 'pca' in 1.2.\n",
      "\n",
      "C:\\ProgramData\\Anaconda3\\lib\\site-packages\\sklearn\\manifold\\_t_sne.py:790: FutureWarning:\n",
      "\n",
      "The default learning rate in TSNE will change from 200.0 to 'auto' in 1.2.\n",
      "\n"
     ]
    },
    {
     "data": {
      "image/png": "[encoded data removed]",
      "text/plain": [
       "<Figure size 1200x1200 with 1 Axes>"
      ]
     },
     "metadata": {},
     "output_type": "display_data"
    }
   ],
   "source": [
    "from sklearn.manifold import TSNE                   # final reduction\n",
    "\n",
    "plt.style.use('default')\n",
    "\n",
    "def reduce_dimensions(model):\n",
    "    num_dimensions = 2  # final num dimensions (2D, 3D, etc)\n",
    "\n",
    "    # extract the words & their vectors, as numpy arrays\n",
    "    vectors = np.asarray(model.wv.vectors)\n",
    "    labels = np.asarray(model.wv.index_to_key)  # fixed-width numpy strings\n",
    "\n",
    "    # reduce using t-SNE\n",
    "    tsne = TSNE(n_components=num_dimensions, random_state=0)\n",
    "    vectors = tsne.fit_transform(vectors)\n",
    "\n",
    "    x_vals = [v[0] for v in vectors]\n",
    "    y_vals = [v[1] for v in vectors]\n",
    "    return x_vals, y_vals, labels\n",
    "\n",
    "\n",
    "x_vals, y_vals, labels = reduce_dimensions(fk_model)\n",
    "\n",
    "\n",
    "def plot_with_matplotlib(x_vals, y_vals, labels):\n",
    "    import random\n",
    "\n",
    "    random.seed(0)\n",
    "\n",
    "    plt.figure(figsize=(12, 12))\n",
    "    plt.scatter(x_vals, y_vals, s=1)\n",
    "\n",
    "    #\n",
    "    # Label randomly subsampled 25 data points\n",
    "    #\n",
    "    indices = list(range(len(labels)))\n",
    "    selected_indices = random.sample(indices, 25)\n",
    "    for i in selected_indices:\n",
    "        plt.annotate(labels[i], (x_vals[i], y_vals[i]))\n",
    "\n",
    "plot_with_matplotlib(x_vals, y_vals, labels)"
   ]
  },
  {
   "cell_type": "markdown",
   "metadata": {},
   "source": [
    "### Plongements"
   ]
  },
  {
   "cell_type": "code",
   "execution_count": 1061,
   "metadata": {
    "ExecuteTime": {
     "end_time": "2021-10-01T13:34:19.497253Z",
     "start_time": "2021-10-01T13:34:19.319243Z"
    },
    "scrolled": true
   },
   "outputs": [
    {
     "data": {
      "text/plain": [
       "(1050, 100)"
      ]
     },
     "execution_count": 1061,
     "metadata": {},
     "output_type": "execute_result"
    }
   ],
   "source": [
    "descriptions_w2v_fk_vectorized = creation_vecteurs_documents(fk_model.wv, dimension, descriptions_w2v_fk)\n",
    "descriptions_w2v_fk_vectorized.shape"
   ]
  },
  {
   "cell_type": "markdown",
   "metadata": {},
   "source": [
    "### KMeans()"
   ]
  },
  {
   "cell_type": "code",
   "execution_count": 1062,
   "metadata": {
    "ExecuteTime": {
     "end_time": "2021-10-01T13:34:20.393304Z",
     "start_time": "2021-10-01T13:34:19.498253Z"
    }
   },
   "outputs": [
    {
     "name": "stdout",
     "output_type": "stream",
     "text": [
      "\u001b[31mAdjusted Rand Index: 0.27\u001b[0m\n"
     ]
    }
   ],
   "source": [
    "km = KMeans(n_clusters=7, init='k-means++', max_iter=1000, n_init=100, tol=1e-10)\n",
    "km.fit(descriptions_w2v_fk_vectorized)\n",
    "cprint(\"Adjusted Rand Index: %.2f\" %\n",
    "      adjusted_rand_score(df_source['label'], km.labels_), 'red')"
   ]
  },
  {
   "cell_type": "markdown",
   "metadata": {
    "ExecuteTime": {
     "end_time": "2021-10-01T11:57:19.608383Z",
     "start_time": "2021-10-01T11:57:19.561380Z"
    }
   },
   "source": [
    "ARI avec les valeurs par défaut (min_count=5, vector_size=100) : 0.20  \n",
    "  \n",
    "ARI avec (min_count=5, vector_size=2) : 0.16  \n",
    "ARI avec (min_count=5, vector_size=5) : 0.21  \n",
    "ARI avec (min_count=5, vector_size=7) : 0.22  \n",
    "ARI avec (min_count=5, vector_size=8) : 0.23  ++  \n",
    "ARI avec (min_count=5, vector_size=9) : 0.22  \n",
    "ARI avec (min_count=5, vector_size=10) : 0.22  \n",
    "ARI avec (min_count=5, vector_size=20) : 0.22  \n",
    "ARI avec (min_count=5, vector_size=50) : 0.22  \n",
    "ARI avec (min_count=5, vector_size=100) : 0.20     (défaut de Word2Vec)  \n",
    "ARI avec (min_count=5, vector_size=200) : 0.19   \n",
    "\n",
    "ARI avec (min_count=1, vector_size=8) : 0.20  \n",
    "ARI avec (min_count=4, vector_size=8) : 0.20  \n",
    "ARI avec (min_count=5, vector_size=8) : 0.23  \n",
    "ARI avec (min_count=10, vector_size=8) : 0.22  \n",
    "ARI avec (min_count=20, vector_size=8) : 0.23  \n",
    "ARI avec (min_count=50, vector_size=8) : 0.24  \n",
    "ARI avec (min_count=100, vector_size=8) : 0.26  ++  \n",
    "ARI avec (min_count=150, vector_size=8) : 0.25  \n",
    "ARI avec (min_count=200, vector_size=8) : 0.14  \n",
    "\n",
    "ARI avec (min_count=100, vector_size=5) : 0.24  \n",
    "ARI avec (min_count=100, vector_size=6) : 0.26  \n",
    "ARI avec (min_count=100, vector_size=7) : 0.26    \n",
    "ARI avec (min_count=100, vector_size=8) : 0.26  ++  \n",
    "ARI avec (min_count=100, vector_size=9) : 0.24  \n",
    "ARI avec (min_count=100, vector_size=10) : 0.24  \n",
    "ARI avec (min_count=100, vector_size=15) : 0.24  \n",
    "ARI avec (min_count=100, vector_size=100) : 0.24  \n",
    "\n",
    "ARI avec (min_count=100, vector_size=8, window=3) : 0.24  \n",
    "ARI avec (min_count=100, vector_size=8, window=3) : 0.25  \n",
    "ARI avec (min_count=100, vector_size=8, window=4) : 0.25  ++  \n",
    "ARI avec (min_count=100, vector_size=8, window=5) : 0.26  \n",
    "ARI avec (min_count=100, vector_size=8, window=6) : 0.20  \n",
    "ARI avec (min_count=100, vector_size=8, window=7) : 0.20  \n",
    "ARI avec (min_count=100, vector_size=8, window=8) : 0.20  \n",
    "\n",
    "ARI avec (min_count=100, vector_size=8, window=4, negative=0) : 0.28  ++\n",
    "ARI avec (min_count=100, vector_size=8, window=4, negative=1) : 0.24  \n",
    "ARI avec (min_count=100, vector_size=8, window=4, negative=2) : 0.25  \n",
    "ARI avec (min_count=100, vector_size=8, window=4, negative=3) : 0.25  \n",
    "ARI avec (min_count=100, vector_size=8, window=4, negative=5) : 0.25  \n",
    "ARI avec (min_count=100, vector_size=8, window=4, negative=10) : 0.26  \n",
    "ARI avec (min_count=100, vector_size=8, window=4, negative=20) : 0.20  \n",
    "\n",
    "sg: Training algorithm: 1 for skip-gram; otherwise CBOW.  \n",
    "ARI avec (sg=0) : 0.20  \n",
    "ARI avec (sg=1) : 0.20  \n",
    "\n",
    "hs : If 1, hierarchical softmax will be used for model training. If 0, and negative is non-zero, negative sampling will be used.  \n",
    "ARI avec (sg=0, hs=0) : 0.20  \n",
    "ARI avec (sg=0, hs=1) : 0.23  ++\n",
    "ARI avec (sg=1, hs=1) : 0.21  \n",
    "ARI avec (min_count=100, vector_size=8, window=4, negative=0, sg=0, hs=1) : 0.20  \n",
    "\n",
    "epochs – Number of iterations (epochs) over the corpus  (default : 5)  \n",
    "ARI (paramètres par défaut, epochs=5) : 0.20  \n",
    "ARI (paramètres par défaut, epochs=20) : 0.24  \n",
    "ARI (paramètres par défaut, epochs=100) : 0.28  \n",
    "ARI (paramètres par défaut, epochs=1000) : 0.28  \n",
    "\n",
    "ARI avec (min_count=100, vector_size=8, window=4, negative=0, epochs=100) : 0.27\n",
    "\n",
    "alpha – The initial learning rate.  \n",
    "min_alpha – Learning rate will linearly drop to min_alpha as training progresses.  \n",
    "Modifier alpha et min_alpha (avec epochs suffisants) n'a pas d'effet amélioratif sur l'ARI. En revanche la valeur obtenue pour l'ARI oscille moins lors de reruns consécutifs.  "
   ]
  },
  {
   "cell_type": "code",
   "execution_count": 1063,
   "metadata": {
    "ExecuteTime": {
     "end_time": "2021-10-01T13:34:20.401304Z",
     "start_time": "2021-10-01T13:34:20.394304Z"
    },
    "scrolled": true
   },
   "outputs": [
    {
     "name": "stdout",
     "output_type": "stream",
     "text": [
      "\u001b[31mCluster 0:\u001b[0m[('babi', 0.5036379098892212), ('hammock', 0.4291475713253021), ('boy', 0.3545358180999756), ('low', 0.3441101312637329), ('renew', 0.34174877405166626), ('cotton', 0.33675190806388855), ('desk', 0.3264423906803131), ('fan', 0.3235439360141754), ('adjust', 0.2942214608192444), ('gener', 0.2867944836616516)]\n",
      "\n",
      "\u001b[31mCluster 1:\u001b[0m[('cm', 0.39232224225997925), ('number', 0.3295903503894806), ('shadow', 0.3273065686225891), ('design', 0.3242516815662384), ('properti', 0.3113853931427002), ('fresh', 0.3057694137096405), ('yellow', 0.30155256390571594), ('specif', 0.2997531294822693), ('appli', 0.29887425899505615), ('day', 0.28952574729919434)]\n",
      "\n",
      "\u001b[31mCluster 2:\u001b[0m[('watch', 0.3994421660900116), ('product', 0.39786240458488464), ('analog', 0.35970669984817505), ('ship', 0.3002870976924896), ('replac', 0.277644544839859), ('varri', 0.27582281827926636), ('pizza', 0.27262675762176514), ('day', 0.26682013273239136), ('shop', 0.2583836615085602), ('onlin', 0.2576952278614044)]\n",
      "\n",
      "\u001b[31mCluster 3:\u001b[0m[('ship', 0.41794243454933167), ('genuin', 0.38518059253692627), ('product', 0.3334241509437561), ('rs', 0.32422739267349243), ('consult', 0.32323357462882996), ('free', 0.3207033574581146), ('pink', 0.30122143030166626), ('item', 0.3007889688014984), ('abstract', 0.2889355421066284), ('flipkartcom', 0.28698796033859253)]\n",
      "\n",
      "\u001b[31mCluster 4:\u001b[0m[('product', 0.3774395287036896), ('ship', 0.35182300209999084), ('bulb', 0.3455252945423126), ('pizza', 0.3140944838523865), ('shelf', 0.3060595393180847), ('day', 0.29951685667037964), ('guarante', 0.2933157682418823), ('best', 0.28798654675483704), ('tresemm', 0.283670574426651), ('free', 0.2769775092601776)]\n",
      "\n",
      "\u001b[31mCluster 5:\u001b[0m[('showpiec', 0.4795174300670624), ('cm', 0.41037794947624207), ('product', 0.3346163034439087), ('qualiti', 0.31121233105659485), ('pair', 0.30587440729141235), ('onlin', 0.2960669994354248), ('price', 0.29572245478630066), ('area', 0.2935446798801422), ('dark', 0.26871639490127563), ('bulb', 0.2630303204059601)]\n",
      "\n",
      "\u001b[31mCluster 6:\u001b[0m[('replac', 0.3983241617679596), ('combo', 0.39524784684181213), ('ship', 0.3926159143447876), ('rs', 0.3679122030735016), ('day', 0.3625105321407318), ('product', 0.3333965241909027), ('flipkartcom', 0.32272252440452576), ('wet', 0.30774620175361633), ('consult', 0.2878950536251068), ('free', 0.2762349247932434)]\n",
      "\n"
     ]
    }
   ],
   "source": [
    "for i in range(len(km.cluster_centers_)):\n",
    "    cprint(\"Cluster %d:\" % i, 'red', end='')\n",
    "    print(fk_model.wv.most_similar(km.cluster_centers_[i]))\n",
    "    print()"
   ]
  },
  {
   "cell_type": "code",
   "execution_count": null,
   "metadata": {},
   "outputs": [],
   "source": []
  },
  {
   "cell_type": "code",
   "execution_count": null,
   "metadata": {},
   "outputs": [],
   "source": []
  }
 ],
 "metadata": {
  "kernelspec": {
   "display_name": "Python 3",
   "language": "python",
   "name": "python3"
  },
  "language_info": {
   "codemirror_mode": {
    "name": "ipython",
    "version": 3
   },
   "file_extension": ".py",
   "mimetype": "text/x-python",
   "name": "python",
   "nbconvert_exporter": "python",
   "pygments_lexer": "ipython3",
   "version": "3.8.5"
  },
  "toc": {
   "base_numbering": 1,
   "nav_menu": {},
   "number_sections": true,
   "sideBar": true,
   "skip_h1_title": false,
   "title_cell": "Table des matières",
   "title_sidebar": "Contents",
   "toc_cell": false,
   "toc_position": {
    "height": "calc(100% - 180px)",
    "left": "10px",
    "top": "150px",
    "width": "392.475px"
   },
   "toc_section_display": true,
   "toc_window_display": true
  }
 },
 "nbformat": 4,
 "nbformat_minor": 4
}
